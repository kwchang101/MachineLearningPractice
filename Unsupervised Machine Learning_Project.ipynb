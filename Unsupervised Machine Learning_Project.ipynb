{
 "cells": [
  {
   "cell_type": "markdown",
   "id": "e77d3e71",
   "metadata": {},
   "source": [
    "<h1>Differentiate Colorectal carcinoma and para-carcinoma tissue based on expression profile</h1>"
   ]
  },
  {
   "cell_type": "markdown",
   "id": "95a2b658",
   "metadata": {},
   "source": [
    "<h3>Title: \tHypoxia-induced cysteine metabolism reprogramming are crucial for the tumorigenesis of colorectal cancer</h3>\n",
    "<h5>Gene Expression Omnibus: GSE223119</h5>"
   ]
  },
  {
   "cell_type": "markdown",
   "id": "9efaa67a",
   "metadata": {},
   "source": [
    "<b>Data Analyzer:</b> Kai-Wei Chang"
   ]
  },
  {
   "cell_type": "markdown",
   "id": "e64103bc",
   "metadata": {},
   "source": [
    "<p><b>Data Owner:</b> Shiyi Yang<br>\n",
    "<b>Email:</b> octoberfirst@sjtu.edu.cn<br>\n",
    "<b>Affiliation:</b> Shanghai Jiao Tong University, Shanghai, China<br>"
   ]
  },
  {
   "cell_type": "markdown",
   "id": "71639733",
   "metadata": {},
   "source": [
    "<h2>Q1: Main objective of the analysis that also specifies whether your model will be focused on clustering or dimensionality reduction and the benefits that your analysis brings to the business or stakeholders of this data.</h2>"
   ]
  },
  {
   "cell_type": "markdown",
   "id": "2b3d3d9c",
   "metadata": {},
   "source": [
    "<p><b>Answer:</b><br>\n",
    "This analysis wil be focused on dimensionality reduction, in addition to clustering<br>\n",
    "By determining whether the gene expresison profiles capable of clustering samples according to their similarity<br>\n",
    "Given vast number of genes/features, dimension reduction aim to investigate potential gene network groups.<br>"
   ]
  },
  {
   "cell_type": "markdown",
   "id": "9ef7e6f8",
   "metadata": {},
   "source": [
    "<h2>Q2: Brief description of the data set you chose, a summary of its attributes, and an outline of what you are trying to accomplish with this analysis.</h2>"
   ]
  },
  {
   "cell_type": "markdown",
   "id": "0d00fced",
   "metadata": {},
   "source": [
    "<b>Answer:</b><br>\n",
    "Metabolic reprogramming is a hallmark of human cancer and cancer-specific metabolism provide opportunities for cancer diagnosis, prognosis, and treatment. However, how metabolic pathways affect the initiation and progression of colorectal cancer remain largely unknown.<br>\n",
    "This data set includes 40 gene expression profiles of cancer and para-carcinoma tissue (tissue surrounding cancer).<br>\n",
    "This analysis attempt to group gnes of similar regulatory network and investigate variations among samples"
   ]
  },
  {
   "cell_type": "code",
   "execution_count": 1,
   "id": "fca99079",
   "metadata": {},
   "outputs": [],
   "source": [
    "#No warning output\n",
    "def warn(*args, **kwargs):\n",
    "    pass\n",
    "import warnings\n",
    "warnings.warn = warn"
   ]
  },
  {
   "cell_type": "markdown",
   "id": "dc13f203",
   "metadata": {},
   "source": [
    "<h2>Q3: Brief summary of data exploration and actions taken for data cleaning and feature engineering.</h2>"
   ]
  },
  {
   "cell_type": "markdown",
   "id": "e040ec70",
   "metadata": {},
   "source": [
    "<b>Answer:</b><br>\n",
    "Data Exploration:\n",
    "- Raw data is composed of gene ID, gene expression on each sample, gene names, and database and gene network category<br>\n",
    "- Gene expression has been preprocessed by the data provider, with no missing values<br>\n",
    "- This data set contain extremely high amount of features (ie. 61,700 genes)<br>\n",
    "\n",
    "Data Engineering:\n",
    "- For the project purpose, only gene ID (feature), gene expression, and tissue origin will be considered:\n",
    "- Removing features that are not expressing or have very low variability among all profiles<br>\n",
    "- Gene expression may or may not be skewed, standardization is applied<br>\n",
    "\n",
    "<p>Detail analysis see below"
   ]
  },
  {
   "cell_type": "code",
   "execution_count": 2,
   "id": "ec40adfa",
   "metadata": {},
   "outputs": [],
   "source": [
    "#Import Data processing libraries\n",
    "import numpy as np\n",
    "import pandas as pd"
   ]
  },
  {
   "cell_type": "code",
   "execution_count": 3,
   "id": "459b4af1",
   "metadata": {},
   "outputs": [],
   "source": [
    "#Load Data, data is preprocessed\n",
    "rawData=pd.read_csv(r'C:\\Users\\kai-w\\Desktop\\04_Unsupervised Machine Learning\\GSE223119_MJ20190424016-gene.tpm.matrix.annot.txt',sep='\\t',header=0)"
   ]
  },
  {
   "cell_type": "code",
   "execution_count": 4,
   "id": "bf68b331",
   "metadata": {},
   "outputs": [
    {
     "data": {
      "text/html": [
       "<div>\n",
       "<style scoped>\n",
       "    .dataframe tbody tr th:only-of-type {\n",
       "        vertical-align: middle;\n",
       "    }\n",
       "\n",
       "    .dataframe tbody tr th {\n",
       "        vertical-align: top;\n",
       "    }\n",
       "\n",
       "    .dataframe thead th {\n",
       "        text-align: right;\n",
       "    }\n",
       "</style>\n",
       "<table border=\"1\" class=\"dataframe\">\n",
       "  <thead>\n",
       "    <tr style=\"text-align: right;\">\n",
       "      <th></th>\n",
       "      <th>Unnamed: 0</th>\n",
       "      <th>C10</th>\n",
       "      <th>C11</th>\n",
       "      <th>C12</th>\n",
       "      <th>C13</th>\n",
       "      <th>C14</th>\n",
       "      <th>C15</th>\n",
       "      <th>C18</th>\n",
       "      <th>C1</th>\n",
       "      <th>C20</th>\n",
       "      <th>...</th>\n",
       "      <th>cog</th>\n",
       "      <th>cog_description</th>\n",
       "      <th>KO_id</th>\n",
       "      <th>KO_name</th>\n",
       "      <th>paths</th>\n",
       "      <th>pfam</th>\n",
       "      <th>go</th>\n",
       "      <th>nr</th>\n",
       "      <th>swissprot</th>\n",
       "      <th>entrez</th>\n",
       "    </tr>\n",
       "  </thead>\n",
       "  <tbody>\n",
       "    <tr>\n",
       "      <th>0</th>\n",
       "      <td>ENSG00000000003</td>\n",
       "      <td>61.65</td>\n",
       "      <td>37.27</td>\n",
       "      <td>85.58</td>\n",
       "      <td>68.76</td>\n",
       "      <td>32.17</td>\n",
       "      <td>49.63</td>\n",
       "      <td>64.18</td>\n",
       "      <td>10.96</td>\n",
       "      <td>36.86</td>\n",
       "      <td>...</td>\n",
       "      <td>ENOG4111IRY(S:Function unknown)</td>\n",
       "      <td>ENOG4111IRY(Tenomodulin)</td>\n",
       "      <td>K17295</td>\n",
       "      <td>TSPAN6</td>\n",
       "      <td>NaN</td>\n",
       "      <td>PF00335.17(Tetraspannin:Tetraspanin family)</td>\n",
       "      <td>GO:0039532(biological_process:negative regulat...</td>\n",
       "      <td>NP_003261.1(tetraspanin-6 isoform a [Homo sapi...</td>\n",
       "      <td>sp|O43657|TSN6_HUMAN(Tetraspanin-6 OS=Homo sap...</td>\n",
       "      <td>7105.0</td>\n",
       "    </tr>\n",
       "    <tr>\n",
       "      <th>1</th>\n",
       "      <td>ENSG00000000005</td>\n",
       "      <td>0.31</td>\n",
       "      <td>3.39</td>\n",
       "      <td>1.34</td>\n",
       "      <td>2.24</td>\n",
       "      <td>0.25</td>\n",
       "      <td>4.48</td>\n",
       "      <td>1.64</td>\n",
       "      <td>0.15</td>\n",
       "      <td>0.89</td>\n",
       "      <td>...</td>\n",
       "      <td>ENOG410YB96(S:Function unknown)</td>\n",
       "      <td>ENOG410YB96(Tenomodulin)</td>\n",
       "      <td>NaN</td>\n",
       "      <td>NaN</td>\n",
       "      <td>NaN</td>\n",
       "      <td>PF04089.11(BRICHOS:BRICHOS domain)</td>\n",
       "      <td>GO:0005737(cellular_component:cytoplasm); GO:0...</td>\n",
       "      <td>XP_006986474.1(PREDICTED: tenomodulin [Peromys...</td>\n",
       "      <td>sp|Q9H2S6|TNMD_HUMAN(Tenomodulin OS=Homo sapie...</td>\n",
       "      <td>64102.0</td>\n",
       "    </tr>\n",
       "    <tr>\n",
       "      <th>2</th>\n",
       "      <td>ENSG00000000419</td>\n",
       "      <td>81.96</td>\n",
       "      <td>34.78</td>\n",
       "      <td>56.60</td>\n",
       "      <td>81.13</td>\n",
       "      <td>49.78</td>\n",
       "      <td>121.31</td>\n",
       "      <td>91.79</td>\n",
       "      <td>39.23</td>\n",
       "      <td>41.02</td>\n",
       "      <td>...</td>\n",
       "      <td>COG0463(M:Cell wall/membrane/envelope biogenesis)</td>\n",
       "      <td>COG0463(Glycosyl transferase, family 2)</td>\n",
       "      <td>K00721</td>\n",
       "      <td>DPM1</td>\n",
       "      <td>map00510(N-Glycan biosynthesis)</td>\n",
       "      <td>PF00535.23(Glycos_transf_2:Glycosyl transferas...</td>\n",
       "      <td>GO:0019673(biological_process:GDP-mannose meta...</td>\n",
       "      <td>NP_001303964.1(dolichol-phosphate mannosyltran...</td>\n",
       "      <td>sp|O60762|DPM1_HUMAN(Dolichol-phosphate mannos...</td>\n",
       "      <td>8813.0</td>\n",
       "    </tr>\n",
       "    <tr>\n",
       "      <th>3</th>\n",
       "      <td>ENSG00000000457</td>\n",
       "      <td>4.98</td>\n",
       "      <td>1.42</td>\n",
       "      <td>2.84</td>\n",
       "      <td>4.01</td>\n",
       "      <td>4.90</td>\n",
       "      <td>3.86</td>\n",
       "      <td>3.63</td>\n",
       "      <td>4.08</td>\n",
       "      <td>3.95</td>\n",
       "      <td>...</td>\n",
       "      <td>ENOG410XQTG(S:Function unknown)</td>\n",
       "      <td>ENOG410XQTG(S. cerevisiae)</td>\n",
       "      <td>K17542</td>\n",
       "      <td>SCYL3</td>\n",
       "      <td>NaN</td>\n",
       "      <td>PF00069.22(Pkinase:Protein kinase domain); PF0...</td>\n",
       "      <td>GO:0005794(cellular_component:Golgi apparatus)...</td>\n",
       "      <td>XP_003893590.2(protein-associating with the ca...</td>\n",
       "      <td>sp|Q8IZE3|PACE1_HUMAN(Protein-associating with...</td>\n",
       "      <td>57147.0</td>\n",
       "    </tr>\n",
       "    <tr>\n",
       "      <th>4</th>\n",
       "      <td>ENSG00000000460</td>\n",
       "      <td>7.14</td>\n",
       "      <td>1.99</td>\n",
       "      <td>2.80</td>\n",
       "      <td>9.40</td>\n",
       "      <td>5.90</td>\n",
       "      <td>4.13</td>\n",
       "      <td>9.92</td>\n",
       "      <td>4.05</td>\n",
       "      <td>4.21</td>\n",
       "      <td>...</td>\n",
       "      <td>ENOG4110VTC(S:Function unknown)</td>\n",
       "      <td>ENOG4110VTC(Chromosome 1 open reading frame 112)</td>\n",
       "      <td>NaN</td>\n",
       "      <td>NaN</td>\n",
       "      <td>NaN</td>\n",
       "      <td>PF14868.3(DUF4487:Domain of unknown function (...</td>\n",
       "      <td>NaN</td>\n",
       "      <td>XP_005245374.1(uncharacterized protein C1orf11...</td>\n",
       "      <td>sp|Q9NSG2|CA112_HUMAN(Uncharacterized protein ...</td>\n",
       "      <td>55732.0</td>\n",
       "    </tr>\n",
       "  </tbody>\n",
       "</table>\n",
       "<p>5 rows × 54 columns</p>\n",
       "</div>"
      ],
      "text/plain": [
       "        Unnamed: 0    C10    C11    C12    C13    C14     C15    C18     C1  \\\n",
       "0  ENSG00000000003  61.65  37.27  85.58  68.76  32.17   49.63  64.18  10.96   \n",
       "1  ENSG00000000005   0.31   3.39   1.34   2.24   0.25    4.48   1.64   0.15   \n",
       "2  ENSG00000000419  81.96  34.78  56.60  81.13  49.78  121.31  91.79  39.23   \n",
       "3  ENSG00000000457   4.98   1.42   2.84   4.01   4.90    3.86   3.63   4.08   \n",
       "4  ENSG00000000460   7.14   1.99   2.80   9.40   5.90    4.13   9.92   4.05   \n",
       "\n",
       "     C20  ...                                                cog  \\\n",
       "0  36.86  ...                    ENOG4111IRY(S:Function unknown)   \n",
       "1   0.89  ...                    ENOG410YB96(S:Function unknown)   \n",
       "2  41.02  ...  COG0463(M:Cell wall/membrane/envelope biogenesis)   \n",
       "3   3.95  ...                    ENOG410XQTG(S:Function unknown)   \n",
       "4   4.21  ...                    ENOG4110VTC(S:Function unknown)   \n",
       "\n",
       "                                    cog_description   KO_id  KO_name  \\\n",
       "0                          ENOG4111IRY(Tenomodulin)  K17295   TSPAN6   \n",
       "1                          ENOG410YB96(Tenomodulin)     NaN      NaN   \n",
       "2           COG0463(Glycosyl transferase, family 2)  K00721     DPM1   \n",
       "3                        ENOG410XQTG(S. cerevisiae)  K17542    SCYL3   \n",
       "4  ENOG4110VTC(Chromosome 1 open reading frame 112)     NaN      NaN   \n",
       "\n",
       "                             paths  \\\n",
       "0                              NaN   \n",
       "1                              NaN   \n",
       "2  map00510(N-Glycan biosynthesis)   \n",
       "3                              NaN   \n",
       "4                              NaN   \n",
       "\n",
       "                                                pfam  \\\n",
       "0        PF00335.17(Tetraspannin:Tetraspanin family)   \n",
       "1                 PF04089.11(BRICHOS:BRICHOS domain)   \n",
       "2  PF00535.23(Glycos_transf_2:Glycosyl transferas...   \n",
       "3  PF00069.22(Pkinase:Protein kinase domain); PF0...   \n",
       "4  PF14868.3(DUF4487:Domain of unknown function (...   \n",
       "\n",
       "                                                  go  \\\n",
       "0  GO:0039532(biological_process:negative regulat...   \n",
       "1  GO:0005737(cellular_component:cytoplasm); GO:0...   \n",
       "2  GO:0019673(biological_process:GDP-mannose meta...   \n",
       "3  GO:0005794(cellular_component:Golgi apparatus)...   \n",
       "4                                                NaN   \n",
       "\n",
       "                                                  nr  \\\n",
       "0  NP_003261.1(tetraspanin-6 isoform a [Homo sapi...   \n",
       "1  XP_006986474.1(PREDICTED: tenomodulin [Peromys...   \n",
       "2  NP_001303964.1(dolichol-phosphate mannosyltran...   \n",
       "3  XP_003893590.2(protein-associating with the ca...   \n",
       "4  XP_005245374.1(uncharacterized protein C1orf11...   \n",
       "\n",
       "                                           swissprot   entrez  \n",
       "0  sp|O43657|TSN6_HUMAN(Tetraspanin-6 OS=Homo sap...   7105.0  \n",
       "1  sp|Q9H2S6|TNMD_HUMAN(Tenomodulin OS=Homo sapie...  64102.0  \n",
       "2  sp|O60762|DPM1_HUMAN(Dolichol-phosphate mannos...   8813.0  \n",
       "3  sp|Q8IZE3|PACE1_HUMAN(Protein-associating with...  57147.0  \n",
       "4  sp|Q9NSG2|CA112_HUMAN(Uncharacterized protein ...  55732.0  \n",
       "\n",
       "[5 rows x 54 columns]"
      ]
     },
     "execution_count": 4,
     "metadata": {},
     "output_type": "execute_result"
    }
   ],
   "source": [
    "#Data overview\n",
    "rawData.head()"
   ]
  },
  {
   "cell_type": "code",
   "execution_count": 5,
   "id": "1b293672",
   "metadata": {},
   "outputs": [
    {
     "data": {
      "text/plain": [
       "Unnamed: 0          object\n",
       "C10                float64\n",
       "C11                float64\n",
       "C12                float64\n",
       "C13                float64\n",
       "C14                float64\n",
       "C15                float64\n",
       "C18                float64\n",
       "C1                 float64\n",
       "C20                float64\n",
       "C22                float64\n",
       "C23                float64\n",
       "C24                float64\n",
       "C25                float64\n",
       "C3                 float64\n",
       "C4                 float64\n",
       "C5                 float64\n",
       "C6                 float64\n",
       "C7                 float64\n",
       "C8                 float64\n",
       "C9                 float64\n",
       "P10                float64\n",
       "P11                float64\n",
       "P12                float64\n",
       "P13                float64\n",
       "P14                float64\n",
       "P15                float64\n",
       "P18                float64\n",
       "P1                 float64\n",
       "P20                float64\n",
       "P22                float64\n",
       "P23                float64\n",
       "P24                float64\n",
       "P25                float64\n",
       "P3                 float64\n",
       "P4                 float64\n",
       "P5                 float64\n",
       "P6                 float64\n",
       "P7                 float64\n",
       "P8                 float64\n",
       "P9                 float64\n",
       "gene_name           object\n",
       "length               int64\n",
       "description         object\n",
       "cog                 object\n",
       "cog_description     object\n",
       "KO_id               object\n",
       "KO_name             object\n",
       "paths               object\n",
       "pfam                object\n",
       "go                  object\n",
       "nr                  object\n",
       "swissprot           object\n",
       "entrez             float64\n",
       "dtype: object"
      ]
     },
     "execution_count": 5,
     "metadata": {},
     "output_type": "execute_result"
    }
   ],
   "source": [
    "#Data types for each column\n",
    "rawData.dtypes"
   ]
  },
  {
   "cell_type": "code",
   "execution_count": 6,
   "id": "b02163a7",
   "metadata": {},
   "outputs": [
    {
     "data": {
      "text/html": [
       "<div>\n",
       "<style scoped>\n",
       "    .dataframe tbody tr th:only-of-type {\n",
       "        vertical-align: middle;\n",
       "    }\n",
       "\n",
       "    .dataframe tbody tr th {\n",
       "        vertical-align: top;\n",
       "    }\n",
       "\n",
       "    .dataframe thead th {\n",
       "        text-align: right;\n",
       "    }\n",
       "</style>\n",
       "<table border=\"1\" class=\"dataframe\">\n",
       "  <thead>\n",
       "    <tr style=\"text-align: right;\">\n",
       "      <th></th>\n",
       "      <th>ENSG00000000003</th>\n",
       "      <th>ENSG00000000005</th>\n",
       "      <th>ENSG00000000419</th>\n",
       "      <th>ENSG00000000457</th>\n",
       "      <th>ENSG00000000460</th>\n",
       "      <th>ENSG00000000938</th>\n",
       "      <th>ENSG00000000971</th>\n",
       "      <th>ENSG00000001036</th>\n",
       "      <th>ENSG00000001084</th>\n",
       "      <th>ENSG00000001167</th>\n",
       "      <th>...</th>\n",
       "      <th>MSTRG.9662</th>\n",
       "      <th>MSTRG.9664</th>\n",
       "      <th>MSTRG.9666</th>\n",
       "      <th>MSTRG.9667</th>\n",
       "      <th>MSTRG.9925</th>\n",
       "      <th>MSTRG.9927</th>\n",
       "      <th>MSTRG.9942</th>\n",
       "      <th>MSTRG.9966</th>\n",
       "      <th>MSTRG.9967</th>\n",
       "      <th>MSTRG.9974</th>\n",
       "    </tr>\n",
       "  </thead>\n",
       "  <tbody>\n",
       "    <tr>\n",
       "      <th>C10</th>\n",
       "      <td>61.65</td>\n",
       "      <td>0.31</td>\n",
       "      <td>81.96</td>\n",
       "      <td>4.98</td>\n",
       "      <td>7.14</td>\n",
       "      <td>4.40</td>\n",
       "      <td>15.56</td>\n",
       "      <td>38.45</td>\n",
       "      <td>18.87</td>\n",
       "      <td>12.65</td>\n",
       "      <td>...</td>\n",
       "      <td>0.02</td>\n",
       "      <td>0.00</td>\n",
       "      <td>0.0</td>\n",
       "      <td>0.13</td>\n",
       "      <td>0.37</td>\n",
       "      <td>0.00</td>\n",
       "      <td>0.54</td>\n",
       "      <td>0.96</td>\n",
       "      <td>0.14</td>\n",
       "      <td>0.00</td>\n",
       "    </tr>\n",
       "    <tr>\n",
       "      <th>C11</th>\n",
       "      <td>37.27</td>\n",
       "      <td>3.39</td>\n",
       "      <td>34.78</td>\n",
       "      <td>1.42</td>\n",
       "      <td>1.99</td>\n",
       "      <td>3.10</td>\n",
       "      <td>5.15</td>\n",
       "      <td>34.72</td>\n",
       "      <td>11.98</td>\n",
       "      <td>3.12</td>\n",
       "      <td>...</td>\n",
       "      <td>0.10</td>\n",
       "      <td>6.57</td>\n",
       "      <td>0.0</td>\n",
       "      <td>1.17</td>\n",
       "      <td>0.61</td>\n",
       "      <td>1.78</td>\n",
       "      <td>0.14</td>\n",
       "      <td>1.46</td>\n",
       "      <td>0.60</td>\n",
       "      <td>3.58</td>\n",
       "    </tr>\n",
       "    <tr>\n",
       "      <th>C12</th>\n",
       "      <td>85.58</td>\n",
       "      <td>1.34</td>\n",
       "      <td>56.60</td>\n",
       "      <td>2.84</td>\n",
       "      <td>2.80</td>\n",
       "      <td>5.31</td>\n",
       "      <td>8.48</td>\n",
       "      <td>29.41</td>\n",
       "      <td>25.83</td>\n",
       "      <td>11.12</td>\n",
       "      <td>...</td>\n",
       "      <td>0.07</td>\n",
       "      <td>0.00</td>\n",
       "      <td>0.0</td>\n",
       "      <td>0.20</td>\n",
       "      <td>0.17</td>\n",
       "      <td>0.50</td>\n",
       "      <td>0.98</td>\n",
       "      <td>1.56</td>\n",
       "      <td>0.07</td>\n",
       "      <td>4.64</td>\n",
       "    </tr>\n",
       "    <tr>\n",
       "      <th>C13</th>\n",
       "      <td>68.76</td>\n",
       "      <td>2.24</td>\n",
       "      <td>81.13</td>\n",
       "      <td>4.01</td>\n",
       "      <td>9.40</td>\n",
       "      <td>4.46</td>\n",
       "      <td>14.99</td>\n",
       "      <td>45.74</td>\n",
       "      <td>25.93</td>\n",
       "      <td>13.76</td>\n",
       "      <td>...</td>\n",
       "      <td>0.04</td>\n",
       "      <td>0.00</td>\n",
       "      <td>0.0</td>\n",
       "      <td>0.33</td>\n",
       "      <td>0.75</td>\n",
       "      <td>0.23</td>\n",
       "      <td>1.10</td>\n",
       "      <td>2.13</td>\n",
       "      <td>1.38</td>\n",
       "      <td>0.00</td>\n",
       "    </tr>\n",
       "    <tr>\n",
       "      <th>C14</th>\n",
       "      <td>32.17</td>\n",
       "      <td>0.25</td>\n",
       "      <td>49.78</td>\n",
       "      <td>4.90</td>\n",
       "      <td>5.90</td>\n",
       "      <td>2.46</td>\n",
       "      <td>10.40</td>\n",
       "      <td>33.28</td>\n",
       "      <td>17.18</td>\n",
       "      <td>11.91</td>\n",
       "      <td>...</td>\n",
       "      <td>0.27</td>\n",
       "      <td>7.07</td>\n",
       "      <td>0.0</td>\n",
       "      <td>0.36</td>\n",
       "      <td>0.54</td>\n",
       "      <td>0.20</td>\n",
       "      <td>0.42</td>\n",
       "      <td>1.75</td>\n",
       "      <td>0.39</td>\n",
       "      <td>5.30</td>\n",
       "    </tr>\n",
       "  </tbody>\n",
       "</table>\n",
       "<p>5 rows × 61700 columns</p>\n",
       "</div>"
      ],
      "text/plain": [
       "     ENSG00000000003  ENSG00000000005  ENSG00000000419  ENSG00000000457  \\\n",
       "C10            61.65             0.31            81.96             4.98   \n",
       "C11            37.27             3.39            34.78             1.42   \n",
       "C12            85.58             1.34            56.60             2.84   \n",
       "C13            68.76             2.24            81.13             4.01   \n",
       "C14            32.17             0.25            49.78             4.90   \n",
       "\n",
       "     ENSG00000000460  ENSG00000000938  ENSG00000000971  ENSG00000001036  \\\n",
       "C10             7.14             4.40            15.56            38.45   \n",
       "C11             1.99             3.10             5.15            34.72   \n",
       "C12             2.80             5.31             8.48            29.41   \n",
       "C13             9.40             4.46            14.99            45.74   \n",
       "C14             5.90             2.46            10.40            33.28   \n",
       "\n",
       "     ENSG00000001084  ENSG00000001167  ...  MSTRG.9662  MSTRG.9664  \\\n",
       "C10            18.87            12.65  ...        0.02        0.00   \n",
       "C11            11.98             3.12  ...        0.10        6.57   \n",
       "C12            25.83            11.12  ...        0.07        0.00   \n",
       "C13            25.93            13.76  ...        0.04        0.00   \n",
       "C14            17.18            11.91  ...        0.27        7.07   \n",
       "\n",
       "     MSTRG.9666  MSTRG.9667  MSTRG.9925  MSTRG.9927  MSTRG.9942  MSTRG.9966  \\\n",
       "C10         0.0        0.13        0.37        0.00        0.54        0.96   \n",
       "C11         0.0        1.17        0.61        1.78        0.14        1.46   \n",
       "C12         0.0        0.20        0.17        0.50        0.98        1.56   \n",
       "C13         0.0        0.33        0.75        0.23        1.10        2.13   \n",
       "C14         0.0        0.36        0.54        0.20        0.42        1.75   \n",
       "\n",
       "     MSTRG.9967  MSTRG.9974  \n",
       "C10        0.14        0.00  \n",
       "C11        0.60        3.58  \n",
       "C12        0.07        4.64  \n",
       "C13        1.38        0.00  \n",
       "C14        0.39        5.30  \n",
       "\n",
       "[5 rows x 61700 columns]"
      ]
     },
     "execution_count": 6,
     "metadata": {},
     "output_type": "execute_result"
    }
   ],
   "source": [
    "#Transpose so treat genes as feature, and each profile as independent record\n",
    "data=rawData.loc[:,rawData.columns.str.match('^C|^P')].rename(index=rawData['Unnamed: 0']).T\n",
    "data.head()"
   ]
  },
  {
   "cell_type": "code",
   "execution_count": 7,
   "id": "b0448f20",
   "metadata": {},
   "outputs": [
    {
     "data": {
      "text/plain": [
       "Index(['C', 'C', 'C', 'C', 'C', 'C', 'C', 'C', 'C', 'C', 'C', 'C', 'C', 'C',\n",
       "       'C', 'C', 'C', 'C', 'C', 'C', 'P', 'P', 'P', 'P', 'P', 'P', 'P', 'P',\n",
       "       'P', 'P', 'P', 'P', 'P', 'P', 'P', 'P', 'P', 'P', 'P', 'P'],\n",
       "      dtype='object')"
      ]
     },
     "execution_count": 7,
     "metadata": {},
     "output_type": "execute_result"
    }
   ],
   "source": [
    "#Assign tissue types for validation purpose\n",
    "Tissue=data.index.str[0:1]\n",
    "Tissue"
   ]
  },
  {
   "cell_type": "code",
   "execution_count": 8,
   "id": "70e969e1",
   "metadata": {},
   "outputs": [
    {
     "data": {
      "text/plain": [
       "0"
      ]
     },
     "execution_count": 8,
     "metadata": {},
     "output_type": "execute_result"
    }
   ],
   "source": [
    "#check for presence of empty values\n",
    "data.isna().values.sum()"
   ]
  },
  {
   "cell_type": "code",
   "execution_count": 9,
   "id": "67ee9550",
   "metadata": {},
   "outputs": [
    {
     "data": {
      "text/plain": [
       "(40, 61700)"
      ]
     },
     "execution_count": 9,
     "metadata": {},
     "output_type": "execute_result"
    }
   ],
   "source": [
    "#huge feature size, reduce by taking randomly 5000 for the purpose of the project\n",
    "data.shape"
   ]
  },
  {
   "cell_type": "code",
   "execution_count": 10,
   "id": "6963df7b",
   "metadata": {},
   "outputs": [
    {
     "name": "stdout",
     "output_type": "stream",
     "text": [
      "                          std\n",
      "feature                      \n",
      "ENSG00000232264      0.001581\n",
      "ENSG00000228856      0.001581\n",
      "ENSG00000231051      0.001581\n",
      "ENSG00000133105      0.001581\n",
      "ENSG00000156925      0.001581\n",
      "...                       ...\n",
      "ENSG00000211890   6428.959034\n",
      "ENSG00000240040   6780.842254\n",
      "ENSG00000212907   7435.193295\n",
      "ENSG00000198804   8216.179258\n",
      "ENSG00000228253  18410.117553\n",
      "\n",
      "[41928 rows x 1 columns]\n"
     ]
    }
   ],
   "source": [
    "#some features/genes have low variability, remove those\n",
    "feature_var=pd.DataFrame([[i, data[i].std()] for i in data.columns],\n",
    "                         columns=['feature', 'std']).set_index('feature')\n",
    "print(feature_var[feature_var['std']>0].sort_values('std'))"
   ]
  },
  {
   "cell_type": "code",
   "execution_count": 11,
   "id": "a74bac36",
   "metadata": {},
   "outputs": [
    {
     "data": {
      "text/plain": [
       "array([[<AxesSubplot:title={'center':'ENSG00000000003'}>,\n",
       "        <AxesSubplot:title={'center':'ENSG00000000005'}>,\n",
       "        <AxesSubplot:title={'center':'ENSG00000000419'}>,\n",
       "        <AxesSubplot:title={'center':'ENSG00000000457'}>,\n",
       "        <AxesSubplot:title={'center':'ENSG00000000460'}>],\n",
       "       [<AxesSubplot:title={'center':'ENSG00000000938'}>,\n",
       "        <AxesSubplot:title={'center':'ENSG00000000971'}>,\n",
       "        <AxesSubplot:title={'center':'ENSG00000001036'}>,\n",
       "        <AxesSubplot:title={'center':'ENSG00000001084'}>,\n",
       "        <AxesSubplot:title={'center':'ENSG00000001167'}>]], dtype=object)"
      ]
     },
     "execution_count": 11,
     "metadata": {},
     "output_type": "execute_result"
    },
    {
     "data": {
      "image/png": "[encoded data removed]",
      "text/plain": [
       "<Figure size 3000x500 with 10 Axes>"
      ]
     },
     "metadata": {},
     "output_type": "display_data"
    }
   ],
   "source": [
    "#some features are skwed and some are not, vary dependent on genes\n",
    "import matplotlib\n",
    "\n",
    "params = {'axes.titlesize':'12',\n",
    "          'xtick.labelsize':'12',\n",
    "          'ytick.labelsize':'12'}\n",
    "matplotlib.rcParams.update(params)\n",
    "data[data.columns[0:10]].hist(bins=20,figsize=(30, 5),layout=(2,5))"
   ]
  },
  {
   "cell_type": "code",
   "execution_count": 12,
   "id": "2e53b49c",
   "metadata": {},
   "outputs": [
    {
     "name": "stdout",
     "output_type": "stream",
     "text": [
      "ENSG00000000003    1.194026\n",
      "ENSG00000000005    1.905369\n",
      "ENSG00000000419    1.374684\n",
      "ENSG00000000457   -1.051250\n",
      "ENSG00000000460    1.258411\n",
      "ENSG00000000938    1.251004\n",
      "ENSG00000000971    0.582230\n",
      "ENSG00000001036    1.045505\n",
      "ENSG00000001084    1.317785\n",
      "ENSG00000001167    0.528714\n",
      "dtype: float64 \n",
      "============\n",
      "True     33826\n",
      "False    27874\n",
      "dtype: int64\n"
     ]
    }
   ],
   "source": [
    "#keep a copy prior log transform\n",
    "preProcData = data.copy()\n",
    "data=preProcData.copy()\n",
    "print(data.skew()[0:10],\"\\n============\")\n",
    "print((data.skew()>0.7).value_counts())"
   ]
  },
  {
   "cell_type": "markdown",
   "id": "26ac28b3",
   "metadata": {},
   "source": [
    "<h2>Q4: Summary of training at least three variations of the unsupervised model you selected. For example, you can use different clustering techniques or different hyperparameters.</h2>"
   ]
  },
  {
   "cell_type": "markdown",
   "id": "6fbc69d7",
   "metadata": {},
   "source": [
    "<b>Answer:</b><br>\n",
    "KMeans, Hierarchial agglomerative clustering, and DBSCAN are to be evaluated<br>"
   ]
  },
  {
   "cell_type": "markdown",
   "id": "42b3b210",
   "metadata": {},
   "source": [
    "<h3>Preprocessing</h3>"
   ]
  },
  {
   "cell_type": "code",
   "execution_count": 13,
   "id": "6d3ab659",
   "metadata": {},
   "outputs": [],
   "source": [
    "#Load preprocessing libraries\n",
    "from sklearn.preprocessing import StandardScaler"
   ]
  },
  {
   "cell_type": "code",
   "execution_count": 14,
   "id": "ce3c046f",
   "metadata": {},
   "outputs": [
    {
     "name": "stdout",
     "output_type": "stream",
     "text": [
      "     ENSG00000000003  ENSG00000000005  ENSG00000000419  ENSG00000000457\n",
      "C10         1.028091        -0.761688         1.675252         1.203712\n",
      "C11        -0.231023         2.524024        -0.323847        -3.010909\n",
      "C12         2.263965         0.337105         0.600704        -1.329796\n",
      "C13         1.395290         1.297216         1.640084         0.055346\n",
      "C14        -0.494414        -0.825695         0.311729         1.109002\n"
     ]
    }
   ],
   "source": [
    "#subset of data for standardize and binarize labels\n",
    "X=pd.DataFrame(StandardScaler().fit_transform(data),columns=data.columns)\n",
    "X.index=data.index\n",
    "print(X.iloc[:5,:4])"
   ]
  },
  {
   "cell_type": "code",
   "execution_count": 15,
   "id": "34dd001f",
   "metadata": {},
   "outputs": [
    {
     "name": "stdout",
     "output_type": "stream",
     "text": [
      "True     33826\n",
      "False    27874\n",
      "dtype: int64\n"
     ]
    },
    {
     "data": {
      "text/plain": [
       "array([[<AxesSubplot:title={'center':'ENSG00000000003'}>,\n",
       "        <AxesSubplot:title={'center':'ENSG00000000005'}>,\n",
       "        <AxesSubplot:title={'center':'ENSG00000000419'}>,\n",
       "        <AxesSubplot:title={'center':'ENSG00000000457'}>,\n",
       "        <AxesSubplot:title={'center':'ENSG00000000460'}>],\n",
       "       [<AxesSubplot:title={'center':'ENSG00000000938'}>,\n",
       "        <AxesSubplot:title={'center':'ENSG00000000971'}>,\n",
       "        <AxesSubplot:title={'center':'ENSG00000001036'}>,\n",
       "        <AxesSubplot:title={'center':'ENSG00000001084'}>,\n",
       "        <AxesSubplot:title={'center':'ENSG00000001167'}>]], dtype=object)"
      ]
     },
     "execution_count": 15,
     "metadata": {},
     "output_type": "execute_result"
    },
    {
     "data": {
      "image/png": "[encoded data removed]",
      "text/plain": [
       "<Figure size 3000x500 with 10 Axes>"
      ]
     },
     "metadata": {},
     "output_type": "display_data"
    }
   ],
   "source": [
    "#data distribution after standard scaling, some skewness presist\n",
    "print((X.skew()>0.7).value_counts())\n",
    "X.iloc[:,:10].hist(bins=20,figsize=(30, 5),layout=(2,5))"
   ]
  },
  {
   "cell_type": "code",
   "execution_count": 16,
   "id": "2ec8d696",
   "metadata": {},
   "outputs": [],
   "source": [
    "#Load ploting library\n",
    "import matplotlib.pyplot as plt, seaborn as sns\n",
    "\n",
    "#Load libraries for unsupervised models\n",
    "from sklearn.cluster import KMeans\n",
    "from sklearn.cluster import AgglomerativeClustering #hierarchy agglomeration\n",
    "from sklearn.cluster import DBSCAN #DBSCAN\n",
    "\n",
    "import time"
   ]
  },
  {
   "cell_type": "markdown",
   "id": "06f075d1",
   "metadata": {},
   "source": [
    "<h4>KMeans</h4>"
   ]
  },
  {
   "cell_type": "code",
   "execution_count": 17,
   "id": "f0222203",
   "metadata": {},
   "outputs": [
    {
     "name": "stdout",
     "output_type": "stream",
     "text": [
      "Clustered: [0 1 1 0 0 0 0 0 0 1 1 0 0 0 1 0 0 1 1 1 1 1 1 1 1 1 1 1 1 1 1 1 1 1 1 1 1\n",
      " 1 1 1] \n",
      " 1    28\n",
      "0    12\n",
      "dtype: int64 \n",
      "========\n",
      "Original: ['C', 'C', 'C', 'C', 'C', 'C', 'C', 'C', 'C', 'C', 'C', 'C', 'C', 'C', 'C', 'C', 'C', 'C', 'C', 'C', 'P', 'P', 'P', 'P', 'P', 'P', 'P', 'P', 'P', 'P', 'P', 'P', 'P', 'P', 'P', 'P', 'P', 'P', 'P', 'P'] \n",
      " C    20\n",
      "P    20\n",
      "dtype: int64\n"
     ]
    }
   ],
   "source": [
    "#Kmeans clustering\n",
    "km=KMeans(n_clusters=2, random_state=42, n_init=\"auto\", algorithm='lloyd')\n",
    "km=km.fit(X)\n",
    "km_X=km.fit_predict(X)\n",
    "\n",
    "print(\"Clustered:\", km_X,\"\\n\", pd.DataFrame(km_X).value_counts(),\"\\n========\")\n",
    "print(\"Original:\", Tissue.to_list(),\"\\n\", pd.DataFrame(Tissue.to_list()).value_counts())"
   ]
  },
  {
   "cell_type": "markdown",
   "id": "17052622",
   "metadata": {},
   "source": [
    "<h4>Hierarchy agglomeration</h4>"
   ]
  },
  {
   "cell_type": "code",
   "execution_count": 18,
   "id": "dc3963e8",
   "metadata": {},
   "outputs": [
    {
     "name": "stdout",
     "output_type": "stream",
     "text": [
      "CLuster with highest number of items, -1 indicate no calculation\n"
     ]
    },
    {
     "data": {
      "text/html": [
       "<div>\n",
       "<style scoped>\n",
       "    .dataframe tbody tr th:only-of-type {\n",
       "        vertical-align: middle;\n",
       "    }\n",
       "\n",
       "    .dataframe tbody tr th {\n",
       "        vertical-align: top;\n",
       "    }\n",
       "\n",
       "    .dataframe thead th {\n",
       "        text-align: right;\n",
       "    }\n",
       "</style>\n",
       "<table border=\"1\" class=\"dataframe\">\n",
       "  <thead>\n",
       "    <tr style=\"text-align: right;\">\n",
       "      <th></th>\n",
       "      <th>euclidean</th>\n",
       "      <th>manhattan</th>\n",
       "      <th>cosine</th>\n",
       "    </tr>\n",
       "  </thead>\n",
       "  <tbody>\n",
       "    <tr>\n",
       "      <th>ward</th>\n",
       "      <td>23</td>\n",
       "      <td>-1</td>\n",
       "      <td>-1</td>\n",
       "    </tr>\n",
       "    <tr>\n",
       "      <th>single</th>\n",
       "      <td>39</td>\n",
       "      <td>39</td>\n",
       "      <td>39</td>\n",
       "    </tr>\n",
       "    <tr>\n",
       "      <th>average</th>\n",
       "      <td>39</td>\n",
       "      <td>31</td>\n",
       "      <td>21</td>\n",
       "    </tr>\n",
       "    <tr>\n",
       "      <th>complete</th>\n",
       "      <td>24</td>\n",
       "      <td>24</td>\n",
       "      <td>23</td>\n",
       "    </tr>\n",
       "  </tbody>\n",
       "</table>\n",
       "</div>"
      ],
      "text/plain": [
       "          euclidean  manhattan  cosine\n",
       "ward             23         -1      -1\n",
       "single           39         39      39\n",
       "average          39         31      21\n",
       "complete         24         24      23"
      ]
     },
     "execution_count": 18,
     "metadata": {},
     "output_type": "execute_result"
    }
   ],
   "source": [
    "#Hierarchy agglomeration\n",
    "metrics = [\"euclidean\", \"manhattan\", \"cosine\"]\n",
    "linkages = [\"ward\",\"single\",\"average\",\"complete\"]\n",
    "hierCond = pd.DataFrame()\n",
    "for metric in metrics:\n",
    "    lnkLst = []\n",
    "    for linkage in linkages:\n",
    "        try:\n",
    "            ac=AgglomerativeClustering(n_clusters=2, metric=metric, linkage=linkage, compute_full_tree=True)\n",
    "            ac=ac.fit(X)\n",
    "            ac_X=ac.fit_predict(X)\n",
    "            ac_X = pd.DataFrame(ac_X==1).value_counts().max()\n",
    "        except:\n",
    "            ac_X = -1\n",
    "        lnkLst = lnkLst + [ac_X]\n",
    "    hierCond[metric] = lnkLst\n",
    "hierCond.index=linkages\n",
    "print('CLuster with highest number of items, -1 indicate no calculation')\n",
    "hierCond\n"
   ]
  },
  {
   "cell_type": "code",
   "execution_count": 19,
   "id": "0ce1bad0",
   "metadata": {},
   "outputs": [
    {
     "name": "stdout",
     "output_type": "stream",
     "text": [
      "[0 0 0 0 0 0 0 0 0 0 0 0 0 0 0 0 0 0 0 1 1 1 1 1 1 1 1 1 1 1 1 1 1 1 1 1 1\n",
      " 1 1 1]\n",
      "['C', 'C', 'C', 'C', 'C', 'C', 'C', 'C', 'C', 'C', 'C', 'C', 'C', 'C', 'C', 'C', 'C', 'C', 'C', 'C', 'P', 'P', 'P', 'P', 'P', 'P', 'P', 'P', 'P', 'P', 'P', 'P', 'P', 'P', 'P', 'P', 'P', 'P', 'P', 'P']\n"
     ]
    }
   ],
   "source": [
    "#cosine similarity with average linkage seem give best clustering, should it compare with tissue origin\n",
    "ac=AgglomerativeClustering(n_clusters=2, metric='cosine', linkage='average', compute_full_tree=True)\n",
    "ac=ac.fit(X)\n",
    "ac_X=ac.fit_predict(X)\n",
    "print(ac_X)\n",
    "print(Tissue.to_list())"
   ]
  },
  {
   "cell_type": "code",
   "execution_count": 20,
   "id": "dfcdfc1b",
   "metadata": {},
   "outputs": [
    {
     "data": {
      "image/png": "[encoded data removed]",
      "text/plain": [
       "<Figure size 1500x500 with 1 Axes>"
      ]
     },
     "metadata": {},
     "output_type": "display_data"
    }
   ],
   "source": [
    "#Hierarchy agglomeration plot\n",
    "from scipy.cluster import hierarchy\n",
    "\n",
    "Z = hierarchy.linkage(ac.children_, method='ward')\n",
    "\n",
    "fig, ax = plt.subplots(figsize=(15,5))\n",
    "\n",
    "den = hierarchy.dendrogram(Z, orientation='top', \n",
    "                           p=40, truncate_mode='lastp',\n",
    "                           show_leaf_counts=True, ax=ax)"
   ]
  },
  {
   "cell_type": "markdown",
   "id": "aecd2f18",
   "metadata": {},
   "source": [
    "Hierarchy.linkage is limited with 'ward' method, which does not capture cosine distance"
   ]
  },
  {
   "cell_type": "markdown",
   "id": "256191ca",
   "metadata": {},
   "source": [
    "<h4>DBSCAN on samples</h4>"
   ]
  },
  {
   "cell_type": "code",
   "execution_count": 21,
   "id": "af40a770",
   "metadata": {},
   "outputs": [],
   "source": [
    "#using GridSearchCV to test a selection of eps and min_samples\n",
    "\n",
    "nOut = [] #outliers\n",
    "n1=[]\n",
    "n2 = []\n",
    "for i in range(200,300,2):\n",
    "    ds=DBSCAN(eps=i, min_samples=2,n_jobs=2)\n",
    "    ds=ds.fit(X)\n",
    "    ds_X=ds.fit_predict(X)\n",
    "    nOut=nOut + [((i,(ds_X==-1).sum()))]\n",
    "    n1=n1 + [((i,(ds_X==0).sum()))]\n",
    "    n2=n2 + [((i,(ds_X==1).sum()))]"
   ]
  },
  {
   "cell_type": "code",
   "execution_count": 22,
   "id": "6e0ac3aa",
   "metadata": {},
   "outputs": [
    {
     "data": {
      "image/png": "[encoded data removed]",
      "text/plain": [
       "<Figure size 900x200 with 3 Axes>"
      ]
     },
     "metadata": {},
     "output_type": "display_data"
    }
   ],
   "source": [
    "fig, axs = plt.subplots(1,3,figsize=(9,2))\n",
    "fig.tight_layout(pad=1.0)\n",
    "axs[0].plot(*zip(*nOut))\n",
    "axs[0].set_xlabel('eps')\n",
    "axs[0].set_ylabel('# Outliers')\n",
    "axs[1].plot(*zip(*n1))\n",
    "axs[1].set_xlabel('eps')\n",
    "axs[1].set_ylabel('# Cluster 1')\n",
    "axs[2].plot(*zip(*n2))\n",
    "axs[2].set_xlabel('eps')\n",
    "axs[2].set_ylabel('# Cluster 2')\n",
    "plt.show()"
   ]
  },
  {
   "cell_type": "markdown",
   "id": "d4683263",
   "metadata": {},
   "source": [
    "DBSCAN seem not suitable for clustering samples based on gene expression profiles."
   ]
  },
  {
   "cell_type": "markdown",
   "id": "8251837a",
   "metadata": {},
   "source": [
    "<h2>Q5: A paragraph explaining which of your Unsupervised Learning models you recommend as a final model that best fits your needs in terms.</h2>"
   ]
  },
  {
   "cell_type": "markdown",
   "id": "93cec050",
   "metadata": {},
   "source": [
    "<b>Answer:</b><br>\n",
    "For this data set, hierarchical agglomerication clustering seem perform the best, with cosine distance and linkage method be average.<br>"
   ]
  },
  {
   "cell_type": "markdown",
   "id": "198f74f6",
   "metadata": {},
   "source": [
    "<h2>Q6: Summary Key Findings and Insights, which walks your reader through the main findings of your modeling exercise.</h2>"
   ]
  },
  {
   "cell_type": "markdown",
   "id": "e79da6d6",
   "metadata": {},
   "source": [
    "<b>Answer:</b><br>\n",
    "According to the clustering outcomes, the distance based on gene expression can vary in terms of magnitude. It seems cosine distance is less affected and able to capture the best clustering results. Kmeans and DBSCAN which apply intuitive sense of in theit algorithm seem not very suit for gene expression profiles, which magnitude plays less effect than the relative \"angle\" between samples.\n",
    "<br>"
   ]
  },
  {
   "cell_type": "markdown",
   "id": "7c9b182e",
   "metadata": {},
   "source": [
    "<h2>Q7: Suggestions for next steps in analyzing this data, which may include suggesting revisiting this model or adding specific data features to achieve a better model.</h2>"
   ]
  },
  {
   "cell_type": "markdown",
   "id": "722454ce",
   "metadata": {},
   "source": [
    "<b>Answer:</b><br>\n",
    "Given vast number of variables/features and few tissue samples, reducing dimension or finding representative axis that approximate combinatory explanation of gene groups may provide further insights to the gene regulatory networks."
   ]
  },
  {
   "cell_type": "code",
   "execution_count": null,
   "id": "048a5caf",
   "metadata": {},
   "outputs": [],
   "source": []
  }
 ],
 "metadata": {
  "kernelspec": {
   "display_name": "Python 3 (ipykernel)",
   "language": "python",
   "name": "python3"
  },
  "language_info": {
   "codemirror_mode": {
    "name": "ipython",
    "version": 3
   },
   "file_extension": ".py",
   "mimetype": "text/x-python",
   "name": "python",
   "nbconvert_exporter": "python",
   "pygments_lexer": "ipython3",
   "version": "3.9.13"
  }
 },
 "nbformat": 4,
 "nbformat_minor": 5
}
