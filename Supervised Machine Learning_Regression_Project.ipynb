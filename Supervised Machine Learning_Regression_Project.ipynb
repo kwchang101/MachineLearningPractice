{
 "cells": [
  {
   "cell_type": "markdown",
   "id": "e77d3e71",
   "metadata": {},
   "source": [
    "<h1>Differentiate Colorectal carcinoma and para-carcinoma tissue based on expression profile</h1>"
   ]
  },
  {
   "cell_type": "markdown",
   "id": "95a2b658",
   "metadata": {},
   "source": [
    "<h3>Title: \tHypoxia-induced cysteine metabolism reprogramming are crucial for the tumorigenesis of colorectal cancer</h3>\n",
    "<h5>Gene Expression Omnibus: GSE223119</h5>"
   ]
  },
  {
   "cell_type": "markdown",
   "id": "9efaa67a",
   "metadata": {},
   "source": [
    "<b>Data Analyzer:</b> Kai-Wei Chang"
   ]
  },
  {
   "cell_type": "markdown",
   "id": "e64103bc",
   "metadata": {},
   "source": [
    "<p><b>Data Owner:</b> Shiyi Yang<br>\n",
    "<b>Email:</b> octoberfirst@sjtu.edu.cn<br>\n",
    "<b>Affiliation:</b> Shanghai Jiao Tong University, Shanghai, China<br>"
   ]
  },
  {
   "cell_type": "markdown",
   "id": "71639733",
   "metadata": {},
   "source": [
    "<h2>Q1: Main objective of the analysis that specifies whether your model will be focused on prediction or interpretation.</h2>"
   ]
  },
  {
   "cell_type": "markdown",
   "id": "2b3d3d9c",
   "metadata": {},
   "source": [
    "<p><b>Answer:</b><br>\n",
    "This analysis wil be focused on prediction<br>\n",
    "By determining whether the gene expresison profiles capable of classifying the sample's origin, future expression profiles of unknown origin may be classified accordingly<br>\n",
    "In addition, the analysis will compare and contrast the performance of classificaiton tools on low sample, high-dimension data set.<br>\n",
    "ie. each gene is assumed to be independent feature for this analysis"
   ]
  },
  {
   "cell_type": "markdown",
   "id": "9ef7e6f8",
   "metadata": {},
   "source": [
    "<h2>Q2: Brief description of the data set you chose and a summary of its attributes</h2>"
   ]
  },
  {
   "cell_type": "markdown",
   "id": "0d00fced",
   "metadata": {},
   "source": [
    "<b>Answer:</b><br>\n",
    "Metabolic reprogramming is a hallmark of human cancer and cancer-specific metabolism provide opportunities for cancer diagnosis, prognosis, and treatment. However, how metabolic pathways affect the initiation and progression of colorectal cancer remain largely unknown.<br>\n",
    "This data set includes 40 gene expression profiles of cancer and para-carcinoma tissue (tissue surrounding cancer).<br>\n",
    "Raw data is composed of gene ID, gene expression on each sample, gene names, and database and gene network category<br>\n",
    "This analysis attempt to build a model for predicting the tissue origin of unknown gene profiles"
   ]
  },
  {
   "cell_type": "code",
   "execution_count": 1,
   "id": "fca99079",
   "metadata": {},
   "outputs": [],
   "source": [
    "#No warning output\n",
    "def warn(*args, **kwargs):\n",
    "    pass\n",
    "import warnings\n",
    "warnings.warn = warn"
   ]
  },
  {
   "cell_type": "markdown",
   "id": "dc13f203",
   "metadata": {},
   "source": [
    "<h2>Q3: Brief summary of data exploration and actions taken for data cleaning and feature engineering.</h2>"
   ]
  },
  {
   "cell_type": "markdown",
   "id": "e040ec70",
   "metadata": {},
   "source": [
    "<b>Answer:</b><br>\n",
    "Data Exploration:\n",
    "- Gene expression has been preprocessed by the data provider, with no missing values<br>\n",
    "- This data set contain extremely high amount of features (ie. 61,700 genes)<br>\n",
    "\n",
    "Data Engineering:\n",
    "- For the project purpose, only gene ID (feature), gene expression, and tissue origin will be considered:\n",
    "- Removing features that are not expressing or have very low variability among all profiles<br>\n",
    "- For simplification in this analysis, I randomly selected 3000 features for analysis<br>\n",
    "- Gene expression may or may not be skewed, and expression levels vary from gene to gene, standardization is applied<br>\n",
    "\n",
    "<p>Detail analysis see below"
   ]
  },
  {
   "cell_type": "code",
   "execution_count": 2,
   "id": "ec40adfa",
   "metadata": {},
   "outputs": [],
   "source": [
    "#Import Data processing libraries\n",
    "import numpy as np\n",
    "import pandas as pd"
   ]
  },
  {
   "cell_type": "code",
   "execution_count": 3,
   "id": "459b4af1",
   "metadata": {},
   "outputs": [],
   "source": [
    "#Load Data, data is preprocessed\n",
    "rawData=pd.read_csv(r'C:\\Users\\kai-w\\Desktop\\03_Supervised Machine Learning Classification\\GSE223119_MJ20190424016-gene.tpm.matrix.annot.txt',sep='\\t',header=0)"
   ]
  },
  {
   "cell_type": "code",
   "execution_count": 4,
   "id": "bf68b331",
   "metadata": {},
   "outputs": [
    {
     "data": {
      "text/html": [
       "<div>\n",
       "<style scoped>\n",
       "    .dataframe tbody tr th:only-of-type {\n",
       "        vertical-align: middle;\n",
       "    }\n",
       "\n",
       "    .dataframe tbody tr th {\n",
       "        vertical-align: top;\n",
       "    }\n",
       "\n",
       "    .dataframe thead th {\n",
       "        text-align: right;\n",
       "    }\n",
       "</style>\n",
       "<table border=\"1\" class=\"dataframe\">\n",
       "  <thead>\n",
       "    <tr style=\"text-align: right;\">\n",
       "      <th></th>\n",
       "      <th>Unnamed: 0</th>\n",
       "      <th>C10</th>\n",
       "      <th>C11</th>\n",
       "      <th>C12</th>\n",
       "      <th>C13</th>\n",
       "      <th>C14</th>\n",
       "      <th>C15</th>\n",
       "      <th>C18</th>\n",
       "      <th>C1</th>\n",
       "      <th>C20</th>\n",
       "      <th>...</th>\n",
       "      <th>cog</th>\n",
       "      <th>cog_description</th>\n",
       "      <th>KO_id</th>\n",
       "      <th>KO_name</th>\n",
       "      <th>paths</th>\n",
       "      <th>pfam</th>\n",
       "      <th>go</th>\n",
       "      <th>nr</th>\n",
       "      <th>swissprot</th>\n",
       "      <th>entrez</th>\n",
       "    </tr>\n",
       "  </thead>\n",
       "  <tbody>\n",
       "    <tr>\n",
       "      <th>0</th>\n",
       "      <td>ENSG00000000003</td>\n",
       "      <td>61.65</td>\n",
       "      <td>37.27</td>\n",
       "      <td>85.58</td>\n",
       "      <td>68.76</td>\n",
       "      <td>32.17</td>\n",
       "      <td>49.63</td>\n",
       "      <td>64.18</td>\n",
       "      <td>10.96</td>\n",
       "      <td>36.86</td>\n",
       "      <td>...</td>\n",
       "      <td>ENOG4111IRY(S:Function unknown)</td>\n",
       "      <td>ENOG4111IRY(Tenomodulin)</td>\n",
       "      <td>K17295</td>\n",
       "      <td>TSPAN6</td>\n",
       "      <td>NaN</td>\n",
       "      <td>PF00335.17(Tetraspannin:Tetraspanin family)</td>\n",
       "      <td>GO:0039532(biological_process:negative regulat...</td>\n",
       "      <td>NP_003261.1(tetraspanin-6 isoform a [Homo sapi...</td>\n",
       "      <td>sp|O43657|TSN6_HUMAN(Tetraspanin-6 OS=Homo sap...</td>\n",
       "      <td>7105.0</td>\n",
       "    </tr>\n",
       "    <tr>\n",
       "      <th>1</th>\n",
       "      <td>ENSG00000000005</td>\n",
       "      <td>0.31</td>\n",
       "      <td>3.39</td>\n",
       "      <td>1.34</td>\n",
       "      <td>2.24</td>\n",
       "      <td>0.25</td>\n",
       "      <td>4.48</td>\n",
       "      <td>1.64</td>\n",
       "      <td>0.15</td>\n",
       "      <td>0.89</td>\n",
       "      <td>...</td>\n",
       "      <td>ENOG410YB96(S:Function unknown)</td>\n",
       "      <td>ENOG410YB96(Tenomodulin)</td>\n",
       "      <td>NaN</td>\n",
       "      <td>NaN</td>\n",
       "      <td>NaN</td>\n",
       "      <td>PF04089.11(BRICHOS:BRICHOS domain)</td>\n",
       "      <td>GO:0005737(cellular_component:cytoplasm); GO:0...</td>\n",
       "      <td>XP_006986474.1(PREDICTED: tenomodulin [Peromys...</td>\n",
       "      <td>sp|Q9H2S6|TNMD_HUMAN(Tenomodulin OS=Homo sapie...</td>\n",
       "      <td>64102.0</td>\n",
       "    </tr>\n",
       "    <tr>\n",
       "      <th>2</th>\n",
       "      <td>ENSG00000000419</td>\n",
       "      <td>81.96</td>\n",
       "      <td>34.78</td>\n",
       "      <td>56.60</td>\n",
       "      <td>81.13</td>\n",
       "      <td>49.78</td>\n",
       "      <td>121.31</td>\n",
       "      <td>91.79</td>\n",
       "      <td>39.23</td>\n",
       "      <td>41.02</td>\n",
       "      <td>...</td>\n",
       "      <td>COG0463(M:Cell wall/membrane/envelope biogenesis)</td>\n",
       "      <td>COG0463(Glycosyl transferase, family 2)</td>\n",
       "      <td>K00721</td>\n",
       "      <td>DPM1</td>\n",
       "      <td>map00510(N-Glycan biosynthesis)</td>\n",
       "      <td>PF00535.23(Glycos_transf_2:Glycosyl transferas...</td>\n",
       "      <td>GO:0019673(biological_process:GDP-mannose meta...</td>\n",
       "      <td>NP_001303964.1(dolichol-phosphate mannosyltran...</td>\n",
       "      <td>sp|O60762|DPM1_HUMAN(Dolichol-phosphate mannos...</td>\n",
       "      <td>8813.0</td>\n",
       "    </tr>\n",
       "    <tr>\n",
       "      <th>3</th>\n",
       "      <td>ENSG00000000457</td>\n",
       "      <td>4.98</td>\n",
       "      <td>1.42</td>\n",
       "      <td>2.84</td>\n",
       "      <td>4.01</td>\n",
       "      <td>4.90</td>\n",
       "      <td>3.86</td>\n",
       "      <td>3.63</td>\n",
       "      <td>4.08</td>\n",
       "      <td>3.95</td>\n",
       "      <td>...</td>\n",
       "      <td>ENOG410XQTG(S:Function unknown)</td>\n",
       "      <td>ENOG410XQTG(S. cerevisiae)</td>\n",
       "      <td>K17542</td>\n",
       "      <td>SCYL3</td>\n",
       "      <td>NaN</td>\n",
       "      <td>PF00069.22(Pkinase:Protein kinase domain); PF0...</td>\n",
       "      <td>GO:0005794(cellular_component:Golgi apparatus)...</td>\n",
       "      <td>XP_003893590.2(protein-associating with the ca...</td>\n",
       "      <td>sp|Q8IZE3|PACE1_HUMAN(Protein-associating with...</td>\n",
       "      <td>57147.0</td>\n",
       "    </tr>\n",
       "    <tr>\n",
       "      <th>4</th>\n",
       "      <td>ENSG00000000460</td>\n",
       "      <td>7.14</td>\n",
       "      <td>1.99</td>\n",
       "      <td>2.80</td>\n",
       "      <td>9.40</td>\n",
       "      <td>5.90</td>\n",
       "      <td>4.13</td>\n",
       "      <td>9.92</td>\n",
       "      <td>4.05</td>\n",
       "      <td>4.21</td>\n",
       "      <td>...</td>\n",
       "      <td>ENOG4110VTC(S:Function unknown)</td>\n",
       "      <td>ENOG4110VTC(Chromosome 1 open reading frame 112)</td>\n",
       "      <td>NaN</td>\n",
       "      <td>NaN</td>\n",
       "      <td>NaN</td>\n",
       "      <td>PF14868.3(DUF4487:Domain of unknown function (...</td>\n",
       "      <td>NaN</td>\n",
       "      <td>XP_005245374.1(uncharacterized protein C1orf11...</td>\n",
       "      <td>sp|Q9NSG2|CA112_HUMAN(Uncharacterized protein ...</td>\n",
       "      <td>55732.0</td>\n",
       "    </tr>\n",
       "  </tbody>\n",
       "</table>\n",
       "<p>5 rows × 54 columns</p>\n",
       "</div>"
      ],
      "text/plain": [
       "        Unnamed: 0    C10    C11    C12    C13    C14     C15    C18     C1  \\\n",
       "0  ENSG00000000003  61.65  37.27  85.58  68.76  32.17   49.63  64.18  10.96   \n",
       "1  ENSG00000000005   0.31   3.39   1.34   2.24   0.25    4.48   1.64   0.15   \n",
       "2  ENSG00000000419  81.96  34.78  56.60  81.13  49.78  121.31  91.79  39.23   \n",
       "3  ENSG00000000457   4.98   1.42   2.84   4.01   4.90    3.86   3.63   4.08   \n",
       "4  ENSG00000000460   7.14   1.99   2.80   9.40   5.90    4.13   9.92   4.05   \n",
       "\n",
       "     C20  ...                                                cog  \\\n",
       "0  36.86  ...                    ENOG4111IRY(S:Function unknown)   \n",
       "1   0.89  ...                    ENOG410YB96(S:Function unknown)   \n",
       "2  41.02  ...  COG0463(M:Cell wall/membrane/envelope biogenesis)   \n",
       "3   3.95  ...                    ENOG410XQTG(S:Function unknown)   \n",
       "4   4.21  ...                    ENOG4110VTC(S:Function unknown)   \n",
       "\n",
       "                                    cog_description   KO_id  KO_name  \\\n",
       "0                          ENOG4111IRY(Tenomodulin)  K17295   TSPAN6   \n",
       "1                          ENOG410YB96(Tenomodulin)     NaN      NaN   \n",
       "2           COG0463(Glycosyl transferase, family 2)  K00721     DPM1   \n",
       "3                        ENOG410XQTG(S. cerevisiae)  K17542    SCYL3   \n",
       "4  ENOG4110VTC(Chromosome 1 open reading frame 112)     NaN      NaN   \n",
       "\n",
       "                             paths  \\\n",
       "0                              NaN   \n",
       "1                              NaN   \n",
       "2  map00510(N-Glycan biosynthesis)   \n",
       "3                              NaN   \n",
       "4                              NaN   \n",
       "\n",
       "                                                pfam  \\\n",
       "0        PF00335.17(Tetraspannin:Tetraspanin family)   \n",
       "1                 PF04089.11(BRICHOS:BRICHOS domain)   \n",
       "2  PF00535.23(Glycos_transf_2:Glycosyl transferas...   \n",
       "3  PF00069.22(Pkinase:Protein kinase domain); PF0...   \n",
       "4  PF14868.3(DUF4487:Domain of unknown function (...   \n",
       "\n",
       "                                                  go  \\\n",
       "0  GO:0039532(biological_process:negative regulat...   \n",
       "1  GO:0005737(cellular_component:cytoplasm); GO:0...   \n",
       "2  GO:0019673(biological_process:GDP-mannose meta...   \n",
       "3  GO:0005794(cellular_component:Golgi apparatus)...   \n",
       "4                                                NaN   \n",
       "\n",
       "                                                  nr  \\\n",
       "0  NP_003261.1(tetraspanin-6 isoform a [Homo sapi...   \n",
       "1  XP_006986474.1(PREDICTED: tenomodulin [Peromys...   \n",
       "2  NP_001303964.1(dolichol-phosphate mannosyltran...   \n",
       "3  XP_003893590.2(protein-associating with the ca...   \n",
       "4  XP_005245374.1(uncharacterized protein C1orf11...   \n",
       "\n",
       "                                           swissprot   entrez  \n",
       "0  sp|O43657|TSN6_HUMAN(Tetraspanin-6 OS=Homo sap...   7105.0  \n",
       "1  sp|Q9H2S6|TNMD_HUMAN(Tenomodulin OS=Homo sapie...  64102.0  \n",
       "2  sp|O60762|DPM1_HUMAN(Dolichol-phosphate mannos...   8813.0  \n",
       "3  sp|Q8IZE3|PACE1_HUMAN(Protein-associating with...  57147.0  \n",
       "4  sp|Q9NSG2|CA112_HUMAN(Uncharacterized protein ...  55732.0  \n",
       "\n",
       "[5 rows x 54 columns]"
      ]
     },
     "execution_count": 4,
     "metadata": {},
     "output_type": "execute_result"
    }
   ],
   "source": [
    "#Data overview\n",
    "rawData.head()"
   ]
  },
  {
   "cell_type": "code",
   "execution_count": 5,
   "id": "1b293672",
   "metadata": {},
   "outputs": [
    {
     "data": {
      "text/plain": [
       "Unnamed: 0          object\n",
       "C10                float64\n",
       "C11                float64\n",
       "C12                float64\n",
       "C13                float64\n",
       "C14                float64\n",
       "C15                float64\n",
       "C18                float64\n",
       "C1                 float64\n",
       "C20                float64\n",
       "C22                float64\n",
       "C23                float64\n",
       "C24                float64\n",
       "C25                float64\n",
       "C3                 float64\n",
       "C4                 float64\n",
       "C5                 float64\n",
       "C6                 float64\n",
       "C7                 float64\n",
       "C8                 float64\n",
       "C9                 float64\n",
       "P10                float64\n",
       "P11                float64\n",
       "P12                float64\n",
       "P13                float64\n",
       "P14                float64\n",
       "P15                float64\n",
       "P18                float64\n",
       "P1                 float64\n",
       "P20                float64\n",
       "P22                float64\n",
       "P23                float64\n",
       "P24                float64\n",
       "P25                float64\n",
       "P3                 float64\n",
       "P4                 float64\n",
       "P5                 float64\n",
       "P6                 float64\n",
       "P7                 float64\n",
       "P8                 float64\n",
       "P9                 float64\n",
       "gene_name           object\n",
       "length               int64\n",
       "description         object\n",
       "cog                 object\n",
       "cog_description     object\n",
       "KO_id               object\n",
       "KO_name             object\n",
       "paths               object\n",
       "pfam                object\n",
       "go                  object\n",
       "nr                  object\n",
       "swissprot           object\n",
       "entrez             float64\n",
       "dtype: object"
      ]
     },
     "execution_count": 5,
     "metadata": {},
     "output_type": "execute_result"
    }
   ],
   "source": [
    "#Data types for each column\n",
    "rawData.dtypes"
   ]
  },
  {
   "cell_type": "code",
   "execution_count": 6,
   "id": "b02163a7",
   "metadata": {},
   "outputs": [
    {
     "data": {
      "text/html": [
       "<div>\n",
       "<style scoped>\n",
       "    .dataframe tbody tr th:only-of-type {\n",
       "        vertical-align: middle;\n",
       "    }\n",
       "\n",
       "    .dataframe tbody tr th {\n",
       "        vertical-align: top;\n",
       "    }\n",
       "\n",
       "    .dataframe thead th {\n",
       "        text-align: right;\n",
       "    }\n",
       "</style>\n",
       "<table border=\"1\" class=\"dataframe\">\n",
       "  <thead>\n",
       "    <tr style=\"text-align: right;\">\n",
       "      <th></th>\n",
       "      <th>ENSG00000000003</th>\n",
       "      <th>ENSG00000000005</th>\n",
       "      <th>ENSG00000000419</th>\n",
       "      <th>ENSG00000000457</th>\n",
       "      <th>ENSG00000000460</th>\n",
       "      <th>ENSG00000000938</th>\n",
       "      <th>ENSG00000000971</th>\n",
       "      <th>ENSG00000001036</th>\n",
       "      <th>ENSG00000001084</th>\n",
       "      <th>ENSG00000001167</th>\n",
       "      <th>...</th>\n",
       "      <th>MSTRG.9662</th>\n",
       "      <th>MSTRG.9664</th>\n",
       "      <th>MSTRG.9666</th>\n",
       "      <th>MSTRG.9667</th>\n",
       "      <th>MSTRG.9925</th>\n",
       "      <th>MSTRG.9927</th>\n",
       "      <th>MSTRG.9942</th>\n",
       "      <th>MSTRG.9966</th>\n",
       "      <th>MSTRG.9967</th>\n",
       "      <th>MSTRG.9974</th>\n",
       "    </tr>\n",
       "  </thead>\n",
       "  <tbody>\n",
       "    <tr>\n",
       "      <th>C10</th>\n",
       "      <td>61.65</td>\n",
       "      <td>0.31</td>\n",
       "      <td>81.96</td>\n",
       "      <td>4.98</td>\n",
       "      <td>7.14</td>\n",
       "      <td>4.40</td>\n",
       "      <td>15.56</td>\n",
       "      <td>38.45</td>\n",
       "      <td>18.87</td>\n",
       "      <td>12.65</td>\n",
       "      <td>...</td>\n",
       "      <td>0.02</td>\n",
       "      <td>0.00</td>\n",
       "      <td>0.0</td>\n",
       "      <td>0.13</td>\n",
       "      <td>0.37</td>\n",
       "      <td>0.00</td>\n",
       "      <td>0.54</td>\n",
       "      <td>0.96</td>\n",
       "      <td>0.14</td>\n",
       "      <td>0.00</td>\n",
       "    </tr>\n",
       "    <tr>\n",
       "      <th>C11</th>\n",
       "      <td>37.27</td>\n",
       "      <td>3.39</td>\n",
       "      <td>34.78</td>\n",
       "      <td>1.42</td>\n",
       "      <td>1.99</td>\n",
       "      <td>3.10</td>\n",
       "      <td>5.15</td>\n",
       "      <td>34.72</td>\n",
       "      <td>11.98</td>\n",
       "      <td>3.12</td>\n",
       "      <td>...</td>\n",
       "      <td>0.10</td>\n",
       "      <td>6.57</td>\n",
       "      <td>0.0</td>\n",
       "      <td>1.17</td>\n",
       "      <td>0.61</td>\n",
       "      <td>1.78</td>\n",
       "      <td>0.14</td>\n",
       "      <td>1.46</td>\n",
       "      <td>0.60</td>\n",
       "      <td>3.58</td>\n",
       "    </tr>\n",
       "    <tr>\n",
       "      <th>C12</th>\n",
       "      <td>85.58</td>\n",
       "      <td>1.34</td>\n",
       "      <td>56.60</td>\n",
       "      <td>2.84</td>\n",
       "      <td>2.80</td>\n",
       "      <td>5.31</td>\n",
       "      <td>8.48</td>\n",
       "      <td>29.41</td>\n",
       "      <td>25.83</td>\n",
       "      <td>11.12</td>\n",
       "      <td>...</td>\n",
       "      <td>0.07</td>\n",
       "      <td>0.00</td>\n",
       "      <td>0.0</td>\n",
       "      <td>0.20</td>\n",
       "      <td>0.17</td>\n",
       "      <td>0.50</td>\n",
       "      <td>0.98</td>\n",
       "      <td>1.56</td>\n",
       "      <td>0.07</td>\n",
       "      <td>4.64</td>\n",
       "    </tr>\n",
       "    <tr>\n",
       "      <th>C13</th>\n",
       "      <td>68.76</td>\n",
       "      <td>2.24</td>\n",
       "      <td>81.13</td>\n",
       "      <td>4.01</td>\n",
       "      <td>9.40</td>\n",
       "      <td>4.46</td>\n",
       "      <td>14.99</td>\n",
       "      <td>45.74</td>\n",
       "      <td>25.93</td>\n",
       "      <td>13.76</td>\n",
       "      <td>...</td>\n",
       "      <td>0.04</td>\n",
       "      <td>0.00</td>\n",
       "      <td>0.0</td>\n",
       "      <td>0.33</td>\n",
       "      <td>0.75</td>\n",
       "      <td>0.23</td>\n",
       "      <td>1.10</td>\n",
       "      <td>2.13</td>\n",
       "      <td>1.38</td>\n",
       "      <td>0.00</td>\n",
       "    </tr>\n",
       "    <tr>\n",
       "      <th>C14</th>\n",
       "      <td>32.17</td>\n",
       "      <td>0.25</td>\n",
       "      <td>49.78</td>\n",
       "      <td>4.90</td>\n",
       "      <td>5.90</td>\n",
       "      <td>2.46</td>\n",
       "      <td>10.40</td>\n",
       "      <td>33.28</td>\n",
       "      <td>17.18</td>\n",
       "      <td>11.91</td>\n",
       "      <td>...</td>\n",
       "      <td>0.27</td>\n",
       "      <td>7.07</td>\n",
       "      <td>0.0</td>\n",
       "      <td>0.36</td>\n",
       "      <td>0.54</td>\n",
       "      <td>0.20</td>\n",
       "      <td>0.42</td>\n",
       "      <td>1.75</td>\n",
       "      <td>0.39</td>\n",
       "      <td>5.30</td>\n",
       "    </tr>\n",
       "  </tbody>\n",
       "</table>\n",
       "<p>5 rows × 61700 columns</p>\n",
       "</div>"
      ],
      "text/plain": [
       "     ENSG00000000003  ENSG00000000005  ENSG00000000419  ENSG00000000457  \\\n",
       "C10            61.65             0.31            81.96             4.98   \n",
       "C11            37.27             3.39            34.78             1.42   \n",
       "C12            85.58             1.34            56.60             2.84   \n",
       "C13            68.76             2.24            81.13             4.01   \n",
       "C14            32.17             0.25            49.78             4.90   \n",
       "\n",
       "     ENSG00000000460  ENSG00000000938  ENSG00000000971  ENSG00000001036  \\\n",
       "C10             7.14             4.40            15.56            38.45   \n",
       "C11             1.99             3.10             5.15            34.72   \n",
       "C12             2.80             5.31             8.48            29.41   \n",
       "C13             9.40             4.46            14.99            45.74   \n",
       "C14             5.90             2.46            10.40            33.28   \n",
       "\n",
       "     ENSG00000001084  ENSG00000001167  ...  MSTRG.9662  MSTRG.9664  \\\n",
       "C10            18.87            12.65  ...        0.02        0.00   \n",
       "C11            11.98             3.12  ...        0.10        6.57   \n",
       "C12            25.83            11.12  ...        0.07        0.00   \n",
       "C13            25.93            13.76  ...        0.04        0.00   \n",
       "C14            17.18            11.91  ...        0.27        7.07   \n",
       "\n",
       "     MSTRG.9666  MSTRG.9667  MSTRG.9925  MSTRG.9927  MSTRG.9942  MSTRG.9966  \\\n",
       "C10         0.0        0.13        0.37        0.00        0.54        0.96   \n",
       "C11         0.0        1.17        0.61        1.78        0.14        1.46   \n",
       "C12         0.0        0.20        0.17        0.50        0.98        1.56   \n",
       "C13         0.0        0.33        0.75        0.23        1.10        2.13   \n",
       "C14         0.0        0.36        0.54        0.20        0.42        1.75   \n",
       "\n",
       "     MSTRG.9967  MSTRG.9974  \n",
       "C10        0.14        0.00  \n",
       "C11        0.60        3.58  \n",
       "C12        0.07        4.64  \n",
       "C13        1.38        0.00  \n",
       "C14        0.39        5.30  \n",
       "\n",
       "[5 rows x 61700 columns]"
      ]
     },
     "execution_count": 6,
     "metadata": {},
     "output_type": "execute_result"
    }
   ],
   "source": [
    "#Transpose so treat genes as feature, and each profile as independent record\n",
    "data=rawData.loc[:,rawData.columns.str.match('^C|^P')].rename(index=rawData['Unnamed: 0']).T\n",
    "data.head()"
   ]
  },
  {
   "cell_type": "code",
   "execution_count": 7,
   "id": "70e969e1",
   "metadata": {},
   "outputs": [
    {
     "data": {
      "text/plain": [
       "0"
      ]
     },
     "execution_count": 7,
     "metadata": {},
     "output_type": "execute_result"
    }
   ],
   "source": [
    "#check for presence of empty values\n",
    "data.isna().values.sum()"
   ]
  },
  {
   "cell_type": "code",
   "execution_count": 8,
   "id": "67ee9550",
   "metadata": {},
   "outputs": [
    {
     "data": {
      "text/plain": [
       "(40, 61700)"
      ]
     },
     "execution_count": 8,
     "metadata": {},
     "output_type": "execute_result"
    }
   ],
   "source": [
    "#huge feature size, reduce by taking randomly 1000 for the purpose of the project\n",
    "data.shape"
   ]
  },
  {
   "cell_type": "code",
   "execution_count": 9,
   "id": "6963df7b",
   "metadata": {},
   "outputs": [
    {
     "name": "stdout",
     "output_type": "stream",
     "text": [
      "                          std\n",
      "feature                      \n",
      "ENSG00000228856      0.001581\n",
      "ENSG00000231051      0.001581\n",
      "ENSG00000156925      0.001581\n",
      "ENSG00000250231      0.001581\n",
      "ENSG00000232264      0.001581\n",
      "...                       ...\n",
      "ENSG00000211890   6428.959034\n",
      "ENSG00000240040   6780.842254\n",
      "ENSG00000212907   7435.193295\n",
      "ENSG00000198804   8216.179258\n",
      "ENSG00000228253  18410.117553\n",
      "\n",
      "[41927 rows x 1 columns]\n"
     ]
    }
   ],
   "source": [
    "#some features/genes have low variability, remove those\n",
    "feature_var=pd.DataFrame([[i, data[i].std()] for i in data.columns[:-1]],\n",
    "                         columns=['feature', 'std']).set_index('feature')\n",
    "print(feature_var[feature_var['std']>0].sort_values('std'))"
   ]
  },
  {
   "cell_type": "code",
   "execution_count": 10,
   "id": "c7117b46",
   "metadata": {},
   "outputs": [
    {
     "data": {
      "text/html": [
       "<div>\n",
       "<style scoped>\n",
       "    .dataframe tbody tr th:only-of-type {\n",
       "        vertical-align: middle;\n",
       "    }\n",
       "\n",
       "    .dataframe tbody tr th {\n",
       "        vertical-align: top;\n",
       "    }\n",
       "\n",
       "    .dataframe thead th {\n",
       "        text-align: right;\n",
       "    }\n",
       "</style>\n",
       "<table border=\"1\" class=\"dataframe\">\n",
       "  <thead>\n",
       "    <tr style=\"text-align: right;\">\n",
       "      <th></th>\n",
       "      <th>ENSG00000116731</th>\n",
       "      <th>ENSG00000105379</th>\n",
       "      <th>ENSG00000260908</th>\n",
       "      <th>ENSG00000076356</th>\n",
       "      <th>ENSG00000234147</th>\n",
       "      <th>ENSG00000137770</th>\n",
       "      <th>ENSG00000280721</th>\n",
       "      <th>ENSG00000100605</th>\n",
       "      <th>ENSG00000168065</th>\n",
       "      <th>ENSG00000177383</th>\n",
       "      <th>...</th>\n",
       "      <th>ENSG00000206069</th>\n",
       "      <th>ENSG00000102996</th>\n",
       "      <th>ENSG00000177731</th>\n",
       "      <th>ENSG00000172828</th>\n",
       "      <th>ENSG00000044115</th>\n",
       "      <th>ENSG00000154274</th>\n",
       "      <th>ENSG00000125966</th>\n",
       "      <th>MSTRG.22807</th>\n",
       "      <th>ENSG00000115561</th>\n",
       "      <th>ENSG00000284876</th>\n",
       "    </tr>\n",
       "  </thead>\n",
       "  <tbody>\n",
       "    <tr>\n",
       "      <th>C10</th>\n",
       "      <td>8.25</td>\n",
       "      <td>95.22</td>\n",
       "      <td>3.32</td>\n",
       "      <td>9.67</td>\n",
       "      <td>0.00</td>\n",
       "      <td>8.97</td>\n",
       "      <td>1.90</td>\n",
       "      <td>32.16</td>\n",
       "      <td>0.40</td>\n",
       "      <td>26.98</td>\n",
       "      <td>...</td>\n",
       "      <td>1.32</td>\n",
       "      <td>25.51</td>\n",
       "      <td>95.05</td>\n",
       "      <td>10.43</td>\n",
       "      <td>159.52</td>\n",
       "      <td>15.77</td>\n",
       "      <td>0.82</td>\n",
       "      <td>0.00</td>\n",
       "      <td>72.60</td>\n",
       "      <td>0.00</td>\n",
       "    </tr>\n",
       "    <tr>\n",
       "      <th>C11</th>\n",
       "      <td>5.14</td>\n",
       "      <td>151.07</td>\n",
       "      <td>0.31</td>\n",
       "      <td>4.69</td>\n",
       "      <td>2.78</td>\n",
       "      <td>1.46</td>\n",
       "      <td>3.64</td>\n",
       "      <td>48.93</td>\n",
       "      <td>0.19</td>\n",
       "      <td>19.29</td>\n",
       "      <td>...</td>\n",
       "      <td>4.92</td>\n",
       "      <td>31.44</td>\n",
       "      <td>124.75</td>\n",
       "      <td>13.59</td>\n",
       "      <td>60.13</td>\n",
       "      <td>4.55</td>\n",
       "      <td>0.18</td>\n",
       "      <td>0.00</td>\n",
       "      <td>48.27</td>\n",
       "      <td>0.00</td>\n",
       "    </tr>\n",
       "    <tr>\n",
       "      <th>C12</th>\n",
       "      <td>8.53</td>\n",
       "      <td>67.01</td>\n",
       "      <td>0.29</td>\n",
       "      <td>8.34</td>\n",
       "      <td>0.46</td>\n",
       "      <td>5.27</td>\n",
       "      <td>1.54</td>\n",
       "      <td>44.18</td>\n",
       "      <td>3.34</td>\n",
       "      <td>17.14</td>\n",
       "      <td>...</td>\n",
       "      <td>0.85</td>\n",
       "      <td>34.43</td>\n",
       "      <td>75.61</td>\n",
       "      <td>18.00</td>\n",
       "      <td>79.89</td>\n",
       "      <td>12.22</td>\n",
       "      <td>0.64</td>\n",
       "      <td>0.00</td>\n",
       "      <td>55.09</td>\n",
       "      <td>0.00</td>\n",
       "    </tr>\n",
       "    <tr>\n",
       "      <th>C13</th>\n",
       "      <td>12.99</td>\n",
       "      <td>48.89</td>\n",
       "      <td>1.45</td>\n",
       "      <td>5.64</td>\n",
       "      <td>0.40</td>\n",
       "      <td>7.68</td>\n",
       "      <td>1.76</td>\n",
       "      <td>42.32</td>\n",
       "      <td>1.24</td>\n",
       "      <td>19.71</td>\n",
       "      <td>...</td>\n",
       "      <td>3.04</td>\n",
       "      <td>30.77</td>\n",
       "      <td>82.29</td>\n",
       "      <td>13.76</td>\n",
       "      <td>137.14</td>\n",
       "      <td>11.20</td>\n",
       "      <td>0.23</td>\n",
       "      <td>27.35</td>\n",
       "      <td>80.93</td>\n",
       "      <td>0.00</td>\n",
       "    </tr>\n",
       "    <tr>\n",
       "      <th>C14</th>\n",
       "      <td>14.51</td>\n",
       "      <td>108.77</td>\n",
       "      <td>1.52</td>\n",
       "      <td>8.08</td>\n",
       "      <td>0.00</td>\n",
       "      <td>7.86</td>\n",
       "      <td>0.90</td>\n",
       "      <td>50.16</td>\n",
       "      <td>0.32</td>\n",
       "      <td>27.59</td>\n",
       "      <td>...</td>\n",
       "      <td>3.10</td>\n",
       "      <td>33.86</td>\n",
       "      <td>104.32</td>\n",
       "      <td>20.02</td>\n",
       "      <td>145.65</td>\n",
       "      <td>9.55</td>\n",
       "      <td>0.70</td>\n",
       "      <td>0.00</td>\n",
       "      <td>63.50</td>\n",
       "      <td>0.46</td>\n",
       "    </tr>\n",
       "  </tbody>\n",
       "</table>\n",
       "<p>5 rows × 3000 columns</p>\n",
       "</div>"
      ],
      "text/plain": [
       "     ENSG00000116731  ENSG00000105379  ENSG00000260908  ENSG00000076356  \\\n",
       "C10             8.25            95.22             3.32             9.67   \n",
       "C11             5.14           151.07             0.31             4.69   \n",
       "C12             8.53            67.01             0.29             8.34   \n",
       "C13            12.99            48.89             1.45             5.64   \n",
       "C14            14.51           108.77             1.52             8.08   \n",
       "\n",
       "     ENSG00000234147  ENSG00000137770  ENSG00000280721  ENSG00000100605  \\\n",
       "C10             0.00             8.97             1.90            32.16   \n",
       "C11             2.78             1.46             3.64            48.93   \n",
       "C12             0.46             5.27             1.54            44.18   \n",
       "C13             0.40             7.68             1.76            42.32   \n",
       "C14             0.00             7.86             0.90            50.16   \n",
       "\n",
       "     ENSG00000168065  ENSG00000177383  ...  ENSG00000206069  ENSG00000102996  \\\n",
       "C10             0.40            26.98  ...             1.32            25.51   \n",
       "C11             0.19            19.29  ...             4.92            31.44   \n",
       "C12             3.34            17.14  ...             0.85            34.43   \n",
       "C13             1.24            19.71  ...             3.04            30.77   \n",
       "C14             0.32            27.59  ...             3.10            33.86   \n",
       "\n",
       "     ENSG00000177731  ENSG00000172828  ENSG00000044115  ENSG00000154274  \\\n",
       "C10            95.05            10.43           159.52            15.77   \n",
       "C11           124.75            13.59            60.13             4.55   \n",
       "C12            75.61            18.00            79.89            12.22   \n",
       "C13            82.29            13.76           137.14            11.20   \n",
       "C14           104.32            20.02           145.65             9.55   \n",
       "\n",
       "     ENSG00000125966  MSTRG.22807  ENSG00000115561  ENSG00000284876  \n",
       "C10             0.82         0.00            72.60             0.00  \n",
       "C11             0.18         0.00            48.27             0.00  \n",
       "C12             0.64         0.00            55.09             0.00  \n",
       "C13             0.23        27.35            80.93             0.00  \n",
       "C14             0.70         0.00            63.50             0.46  \n",
       "\n",
       "[5 rows x 3000 columns]"
      ]
     },
     "execution_count": 10,
     "metadata": {},
     "output_type": "execute_result"
    }
   ],
   "source": [
    "#random select 3000 features/genes that are variable for the project's purpose\n",
    "features=feature_var[feature_var['std']>0.5].index.to_series().sample(3000).to_list()\n",
    "data[features].head()"
   ]
  },
  {
   "cell_type": "code",
   "execution_count": 11,
   "id": "a74bac36",
   "metadata": {},
   "outputs": [
    {
     "data": {
      "text/plain": [
       "array([[<AxesSubplot:title={'center':'ENSG00000116731'}>,\n",
       "        <AxesSubplot:title={'center':'ENSG00000105379'}>,\n",
       "        <AxesSubplot:title={'center':'ENSG00000260908'}>,\n",
       "        <AxesSubplot:title={'center':'ENSG00000076356'}>,\n",
       "        <AxesSubplot:title={'center':'ENSG00000234147'}>],\n",
       "       [<AxesSubplot:title={'center':'ENSG00000137770'}>,\n",
       "        <AxesSubplot:title={'center':'ENSG00000280721'}>,\n",
       "        <AxesSubplot:title={'center':'ENSG00000100605'}>,\n",
       "        <AxesSubplot:title={'center':'ENSG00000168065'}>,\n",
       "        <AxesSubplot:title={'center':'ENSG00000177383'}>]], dtype=object)"
      ]
     },
     "execution_count": 11,
     "metadata": {},
     "output_type": "execute_result"
    },
    {
     "data": {
      "image/png": "[encoded data removed]",
      "text/plain": [
       "<Figure size 3000x500 with 10 Axes>"
      ]
     },
     "metadata": {},
     "output_type": "display_data"
    }
   ],
   "source": [
    "#some features are skwed and some are not, vary dependent on genes\n",
    "import matplotlib\n",
    "\n",
    "params = {'axes.titlesize':'12',\n",
    "          'xtick.labelsize':'12',\n",
    "          'ytick.labelsize':'12'}\n",
    "matplotlib.rcParams.update(params)\n",
    "data[features[0:10]].hist(bins=20,figsize=(30, 5),layout=(2,5))"
   ]
  },
  {
   "cell_type": "markdown",
   "id": "26ac28b3",
   "metadata": {},
   "source": [
    "<h2>Q4: Summary of training at least three linear regression models which should be variations that cover using a simple linear regression as a baseline, adding polynomial effects, and using a regularization regression. Preferably, all use the same training and test splits, or the same cross-validation method.</h2>"
   ]
  },
  {
   "cell_type": "markdown",
   "id": "6fbc69d7",
   "metadata": {},
   "source": [
    "<b>Answer:</b><br>\n",
    "Linear Regression, Polynomial Regression, Linear Regression with LESSO regularization <br>\n",
    "Given only few data record, bagging and boosting may be less suit for this analysis\n",
    "\n",
    "Based on the findings by the research group, they found the transporter genes of cystine and cysteine are all upregulated in colorectal cancer by tumor microenvironment induced ROS through transcription factor ATF4. Given such fact, whether gene expression pattern may be used to predict ATF4 expression pattern is of interest."
   ]
  },
  {
   "cell_type": "markdown",
   "id": "42b3b210",
   "metadata": {},
   "source": [
    "<h3>Preprocessing</h3>"
   ]
  },
  {
   "cell_type": "code",
   "execution_count": 12,
   "id": "6d3ab659",
   "metadata": {},
   "outputs": [],
   "source": [
    "#Load preprocessing libraries\n",
    "from sklearn.preprocessing import StandardScaler\n",
    "from sklearn.preprocessing import PolynomialFeatures\n"
   ]
  },
  {
   "cell_type": "code",
   "execution_count": 13,
   "id": "69bdc50d",
   "metadata": {},
   "outputs": [],
   "source": [
    "#identify ID that map to ATF4\n",
    "ATF4_id=[rawData[rawData.gene_name=='ATF4'].iloc[0,0]]"
   ]
  },
  {
   "cell_type": "code",
   "execution_count": 14,
   "id": "ce3c046f",
   "metadata": {},
   "outputs": [
    {
     "name": "stdout",
     "output_type": "stream",
     "text": [
      "   ENSG00000116731  ENSG00000105379  ENSG00000260908  ENSG00000076356\n",
      "0        -0.447179        -0.006876         0.055265         0.264150\n",
      "1        -1.609993         2.144600        -0.977947        -1.429403\n",
      "2        -0.342488        -1.093593        -0.984812        -0.188144\n",
      "3         1.325085        -1.791619        -0.586631        -1.106336\n",
      "4         1.893406         0.515102        -0.562603        -0.276563\n",
      "[[8.2500000e+00 9.5220000e+01 3.3200000e+00 ... 5.2707600e+03\n",
      "  0.0000000e+00 0.0000000e+00]\n",
      " [5.1400000e+00 1.5107000e+02 3.1000000e-01 ... 2.3299929e+03\n",
      "  0.0000000e+00 0.0000000e+00]\n",
      " [8.5300000e+00 6.7010000e+01 2.9000000e-01 ... 3.0349081e+03\n",
      "  0.0000000e+00 0.0000000e+00]\n",
      " ...\n",
      " [8.9500000e+00 9.1450000e+01 2.9100000e+00 ... 4.7692836e+03\n",
      "  4.6270200e+01 4.4890000e-01]\n",
      " [1.0340000e+01 8.0200000e+01 9.3500000e+00 ... 5.0651689e+03\n",
      "  0.0000000e+00 0.0000000e+00]\n",
      " [3.5400000e+00 1.1419000e+02 1.5100000e+00 ... 1.0909809e+03\n",
      "  9.9090000e+00 9.0000000e-02]]\n",
      "       ATF4\n",
      "0 -0.110166\n",
      "1  0.197281\n",
      "2 -0.185572\n",
      "3  0.536964\n",
      "4  1.441271\n"
     ]
    }
   ],
   "source": [
    "#subset of data for standardize and binarize labels\n",
    "X=pd.DataFrame(StandardScaler().fit_transform(data[features]),columns=features)\n",
    "Y=pd.DataFrame(StandardScaler().fit_transform(data[ATF4_id]),columns=['ATF4'])\n",
    "pf = PolynomialFeatures(degree=2, include_bias=False)\n",
    "X_pf = pf.fit_transform(data[features])\n",
    "print(X.iloc[:5,:4])\n",
    "print(X_pf)\n",
    "print(Y.head()) "
   ]
  },
  {
   "cell_type": "code",
   "execution_count": 15,
   "id": "34dd001f",
   "metadata": {},
   "outputs": [
    {
     "data": {
      "text/plain": [
       "array([[<AxesSubplot:title={'center':'ENSG00000116731'}>,\n",
       "        <AxesSubplot:title={'center':'ENSG00000105379'}>,\n",
       "        <AxesSubplot:title={'center':'ENSG00000260908'}>,\n",
       "        <AxesSubplot:title={'center':'ENSG00000076356'}>,\n",
       "        <AxesSubplot:title={'center':'ENSG00000234147'}>]], dtype=object)"
      ]
     },
     "execution_count": 15,
     "metadata": {},
     "output_type": "execute_result"
    },
    {
     "data": {
      "image/png": "[encoded data removed]",
      "text/plain": [
       "<Figure size 3000x300 with 5 Axes>"
      ]
     },
     "metadata": {},
     "output_type": "display_data"
    }
   ],
   "source": [
    "#data distribution after standard scaling, some skewness presist\n",
    "X.iloc[:,:5].hist(bins=20,figsize=(30, 3),layout=(1,5))"
   ]
  },
  {
   "cell_type": "code",
   "execution_count": 16,
   "id": "2ec8d696",
   "metadata": {},
   "outputs": [],
   "source": [
    "#train test split\n",
    "from sklearn.model_selection import train_test_split\n",
    "\n",
    "#Load libraries for classifier and reports\n",
    "from sklearn.linear_model import LinearRegression\n",
    "from sklearn.linear_model import Lasso\n",
    "\n",
    "#load report libraries\n",
    "from sklearn.metrics import r2_score\n",
    "\n",
    "import time"
   ]
  },
  {
   "cell_type": "code",
   "execution_count": 17,
   "id": "ecfa40ee",
   "metadata": {},
   "outputs": [
    {
     "name": "stdout",
     "output_type": "stream",
     "text": [
      "X_train: (24, 3000), Y_train: (24, 1), X_test: (16, 3000), Y_test: (16, 1),\n"
     ]
    }
   ],
   "source": [
    "#train-test split, double check for splitted data set\n",
    "X_train, X_test, Y_train, Y_test = train_test_split(X, Y, test_size=0.4, random_state=5)\n",
    "print(\"X_train: {}, Y_train: {}, X_test: {}, Y_test: {},\".format(X_train.shape,Y_train.shape,X_test.shape,Y_test.shape) )"
   ]
  },
  {
   "cell_type": "markdown",
   "id": "06f075d1",
   "metadata": {},
   "source": [
    "<h4>Linear Regression</h4>"
   ]
  },
  {
   "cell_type": "code",
   "execution_count": 23,
   "id": "dc3963e8",
   "metadata": {},
   "outputs": [
    {
     "data": {
      "text/plain": [
       "array([[-4.73740017e-04,  5.03606954e-04, -3.72638149e-04, ...,\n",
       "        -4.22145505e-26,  8.06827903e-06,  1.20522737e-03]])"
      ]
     },
     "execution_count": 23,
     "metadata": {},
     "output_type": "execute_result"
    }
   ],
   "source": [
    "#Linear regresison model\n",
    "linR=LinearRegression()\n",
    "\n",
    "#train\n",
    "linR_time = time.time()\n",
    "linR.fit(X_train,Y_train)\n",
    "linR_time_train = time.time() - linR_time\n",
    "#test\n",
    "linR_time = time.time()\n",
    "Y_pred_linR = linR.predict(X_test)\n",
    "linR_time_pred = time.time() - linR_time\n",
    "linR.coef_"
   ]
  },
  {
   "cell_type": "code",
   "execution_count": 29,
   "id": "51c9ff82",
   "metadata": {},
   "outputs": [
    {
     "name": "stdout",
     "output_type": "stream",
     "text": [
      "Number of coefficients greater than 0.01:  0\n",
      "Number of coefficients greater than 0.001:  1221\n"
     ]
    }
   ],
   "source": [
    "#coefficients imply each feature takes little effects to the predictability of ATF4 expression\n",
    "print(\"Number of coefficients greater than 0.01: \",(abs(linR.coef_) > 0.01).sum() )\n",
    "print(\"Number of coefficients greater than 0.001: \",(abs(linR.coef_) > 0.001).sum() )"
   ]
  },
  {
   "cell_type": "markdown",
   "id": "256191ca",
   "metadata": {},
   "source": [
    "<h4>LASSO</h4>"
   ]
  },
  {
   "cell_type": "code",
   "execution_count": 19,
   "id": "af40a770",
   "metadata": {},
   "outputs": [
    {
     "name": "stdout",
     "output_type": "stream",
     "text": [
      "Number of key features/genes may associate with ATF4 expression:  14\n"
     ]
    }
   ],
   "source": [
    "#LASSO regularization\n",
    "lso = Lasso(alpha=0.01) #try some levels of regularzation\n",
    "\n",
    "#train\n",
    "lso_time = time.time()\n",
    "lso.fit(X_train,Y_train)\n",
    "lso_time_train = time.time() - lso_time \n",
    "#test\n",
    "lso_time = time.time()\n",
    "Y_pred_lso = lso.predict(X_test)\n",
    "lso_time_pred = time.time() - lso_time\n",
    "#Identify features of importance\n",
    "key_features=(lso.coef_ > 0)\n",
    "print(\"Number of key features/genes may associate with ATF4 expression: \", key_features.sum())"
   ]
  },
  {
   "cell_type": "code",
   "execution_count": 20,
   "id": "dd1659e9",
   "metadata": {},
   "outputs": [
    {
     "data": {
      "text/plain": [
       "['AC011472.3',\n",
       " 'CATSPERZ',\n",
       " 'TRIM26',\n",
       " 'GLRX2',\n",
       " 'YBX3',\n",
       " nan,\n",
       " 'GTF2E2',\n",
       " 'TUBA8',\n",
       " 'UFD1',\n",
       " 'BST2',\n",
       " 'ZNF394',\n",
       " 'NME4',\n",
       " 'NCS1',\n",
       " 'AL365203.2']"
      ]
     },
     "execution_count": 20,
     "metadata": {},
     "output_type": "execute_result"
    }
   ],
   "source": [
    "#List genes may be of interact with ATF4\n",
    "geneList=[]\n",
    "for i in lso.feature_names_in_[key_features]: \n",
    "    geneList = geneList + [rawData.gene_name[rawData.iloc[:,0].to_list().index(i)]]\n",
    "geneList"
   ]
  },
  {
   "cell_type": "markdown",
   "id": "b9ce92cd",
   "metadata": {},
   "source": [
    "<h4>Linear Regression with Polynomial Features</h4>"
   ]
  },
  {
   "cell_type": "code",
   "execution_count": 21,
   "id": "55033c5a",
   "metadata": {},
   "outputs": [
    {
     "name": "stdout",
     "output_type": "stream",
     "text": [
      "X_train: (24, 4504500), Y_train: (24, 1), X_test: (16, 4504500), Y_test: (16, 1),\n"
     ]
    }
   ],
   "source": [
    "#train-test split with polynomial features\n",
    "X_pf_train, X_pf_test, Y_pf_train, Y_pf_test = train_test_split(X_pf, Y, test_size=0.4, random_state=5)\n",
    "print(\"X_train: {}, Y_train: {}, X_test: {}, Y_test: {},\".format(X_pf_train.shape,Y_pf_train.shape,X_pf_test.shape,Y_pf_test.shape) )\n",
    "\n",
    "#train\n",
    "linR_pf = LinearRegression()\n",
    "linR_pf_time = time.time()\n",
    "linR_pf.fit(X_pf_train,Y_pf_train)\n",
    "linR_pf_time_train = time.time() - linR_pf_time\n",
    "#test\n",
    "linR_pf_time = time.time()\n",
    "Y_pred_linR_pf = linR_pf.predict(X_pf_test)\n",
    "linR_pf_time_pred = time.time() - linR_pf_time"
   ]
  },
  {
   "cell_type": "markdown",
   "id": "bae7407c",
   "metadata": {},
   "source": [
    "<h4>Analysis of each classifiers</h4>"
   ]
  },
  {
   "cell_type": "code",
   "execution_count": 22,
   "id": "82661253",
   "metadata": {},
   "outputs": [
    {
     "data": {
      "text/html": [
       "<div>\n",
       "<style scoped>\n",
       "    .dataframe tbody tr th:only-of-type {\n",
       "        vertical-align: middle;\n",
       "    }\n",
       "\n",
       "    .dataframe tbody tr th {\n",
       "        vertical-align: top;\n",
       "    }\n",
       "\n",
       "    .dataframe thead th {\n",
       "        text-align: right;\n",
       "    }\n",
       "</style>\n",
       "<table border=\"1\" class=\"dataframe\">\n",
       "  <thead>\n",
       "    <tr style=\"text-align: right;\">\n",
       "      <th></th>\n",
       "      <th>R2</th>\n",
       "      <th>Training time</th>\n",
       "      <th>Prediction time</th>\n",
       "    </tr>\n",
       "  </thead>\n",
       "  <tbody>\n",
       "    <tr>\n",
       "      <th>Linear Regression</th>\n",
       "      <td>0.725526</td>\n",
       "      <td>0.033981</td>\n",
       "      <td>0.020987</td>\n",
       "    </tr>\n",
       "    <tr>\n",
       "      <th>Lasso</th>\n",
       "      <td>0.749997</td>\n",
       "      <td>0.154910</td>\n",
       "      <td>0.020989</td>\n",
       "    </tr>\n",
       "    <tr>\n",
       "      <th>Polynomial</th>\n",
       "      <td>0.383518</td>\n",
       "      <td>13.971140</td>\n",
       "      <td>0.216882</td>\n",
       "    </tr>\n",
       "  </tbody>\n",
       "</table>\n",
       "</div>"
      ],
      "text/plain": [
       "                         R2  Training time  Prediction time\n",
       "Linear Regression  0.725526       0.033981         0.020987\n",
       "Lasso              0.749997       0.154910         0.020989\n",
       "Polynomial         0.383518      13.971140         0.216882"
      ]
     },
     "execution_count": 22,
     "metadata": {},
     "output_type": "execute_result"
    }
   ],
   "source": [
    "score_df = pd.DataFrame()\n",
    "\n",
    "for i, j in enumerate([Y_pred_linR, Y_pred_lso, Y_pred_linR_pf]):\n",
    "    score_df[i] = [r2_score(Y_test,j)]\n",
    "score_df = score_df.T\n",
    "score_df.columns=['R2']\n",
    "score_df.index=['Linear Regression','Lasso','Polynomial']\n",
    "score_df['Training time']=[linR_time_train, lso_time_train, linR_pf_time_train]\n",
    "score_df['Prediction time']=[linR_time_pred, lso_time_pred, linR_pf_time_pred]\n",
    "score_df"
   ]
  },
  {
   "cell_type": "markdown",
   "id": "8251837a",
   "metadata": {},
   "source": [
    "<h2>Q5: A paragraph explaining which of your regressions you recommend as a final model that best fits your needs in terms of accuracy and explainability.</h2>"
   ]
  },
  {
   "cell_type": "markdown",
   "id": "93cec050",
   "metadata": {},
   "source": [
    "<b>Answer:</b><br>\n",
    "For this data set, Linear Regression and Lasso show similar predictability to ATF4 expression.<br>\n",
    "Nevertheless, R-square of less than 0.75 suggest the predictability may not be very accurate in these tested models<br>\n",
    "On the other hand, polynomial features have dramatic reduced accuracy and high training and prediction time, therefore not recommanded."
   ]
  },
  {
   "cell_type": "markdown",
   "id": "198f74f6",
   "metadata": {},
   "source": [
    "<h2>Q6: Summary Key Findings and Insights, which walks your reader through the main drivers of your model and insights from your data derived from your linear regression model.</h2>"
   ]
  },
  {
   "cell_type": "markdown",
   "id": "e79da6d6",
   "metadata": {},
   "source": [
    "<b>Answer:</b><br>\n",
    "Comparing Linear regression and Lasso outcomes. Linear regression suggested each genes may take minor effects to ATF4 expression, therefore suggested a robust system in gene network, and that contradict with data provider's finding <br>\n",
    "On the other hand, Lasso regularization narrow down the effective terms to several genes, which may imply regulatory network for further analsis. Also these genes makes more sense in a gene regulatory model.<br>"
   ]
  },
  {
   "cell_type": "markdown",
   "id": "7c9b182e",
   "metadata": {},
   "source": [
    "<h2>Q7: Suggestions for next steps in analyzing this data, which may include suggesting revisiting this model adding specific data features to achieve a better explanation or a better prediction.</h2>"
   ]
  },
  {
   "cell_type": "markdown",
   "id": "722454ce",
   "metadata": {},
   "source": [
    "<b>Answer:</b><br>\n",
    "Several genes are involved in regulatory networks involvein ATF4, whether such predictability applicable for other genes of importance is of question. Additionally, the predictability is not effective, further analysis over the gene expresison may be required for better predictability based on gene expresison profiles."
   ]
  },
  {
   "cell_type": "code",
   "execution_count": null,
   "id": "048a5caf",
   "metadata": {},
   "outputs": [],
   "source": []
  }
 ],
 "metadata": {
  "kernelspec": {
   "display_name": "Python 3 (ipykernel)",
   "language": "python",
   "name": "python3"
  },
  "language_info": {
   "codemirror_mode": {
    "name": "ipython",
    "version": 3
   },
   "file_extension": ".py",
   "mimetype": "text/x-python",
   "name": "python",
   "nbconvert_exporter": "python",
   "pygments_lexer": "ipython3",
   "version": "3.9.13"
  }
 },
 "nbformat": 4,
 "nbformat_minor": 5
}
